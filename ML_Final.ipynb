{
 "cells": [
  {
   "cell_type": "code",
   "execution_count": 19,
   "id": "3129d087",
   "metadata": {
    "id": "3129d087"
   },
   "outputs": [],
   "source": [
    "# Initial imports.\n",
    "import sqlalchemy\n",
    "import numpy as np\n",
    "from pathlib import Path\n",
    "from collections import Counter\n",
    "import pandas as pd\n",
    "from sklearn import tree\n",
    "from sklearn.preprocessing import LabelEncoder\n",
    "from sklearn.ensemble import RandomForestClassifier\n",
    "from sklearn.preprocessing import StandardScaler\n",
    "from sklearn.model_selection import train_test_split\n",
    "from sklearn.metrics import confusion_matrix, accuracy_score, classification_report\n",
    "from sqlalchemy import create_engine\n"
   ]
  },
  {
   "cell_type": "code",
   "execution_count": 22,
   "id": "66gqPh38uh4p",
   "metadata": {
    "id": "66gqPh38uh4p"
   },
   "outputs": [
    {
     "data": {
      "text/html": [
       "<div>\n",
       "<style scoped>\n",
       "    .dataframe tbody tr th:only-of-type {\n",
       "        vertical-align: middle;\n",
       "    }\n",
       "\n",
       "    .dataframe tbody tr th {\n",
       "        vertical-align: top;\n",
       "    }\n",
       "\n",
       "    .dataframe thead th {\n",
       "        text-align: right;\n",
       "    }\n",
       "</style>\n",
       "<table border=\"1\" class=\"dataframe\">\n",
       "  <thead>\n",
       "    <tr style=\"text-align: right;\">\n",
       "      <th></th>\n",
       "      <th>business_postal_code</th>\n",
       "      <th>population</th>\n",
       "      <th>avg_income</th>\n",
       "      <th>inspection_id</th>\n",
       "      <th>inspection_date</th>\n",
       "      <th>inspection_score</th>\n",
       "      <th>risk_category</th>\n",
       "      <th>Neighborhoods</th>\n",
       "      <th>Current Police Districts</th>\n",
       "    </tr>\n",
       "  </thead>\n",
       "  <tbody>\n",
       "    <tr>\n",
       "      <th>0</th>\n",
       "      <td>94127</td>\n",
       "      <td>20624</td>\n",
       "      <td>95313</td>\n",
       "      <td>38798_20170928</td>\n",
       "      <td>September</td>\n",
       "      <td>94.0</td>\n",
       "      <td>Low Risk</td>\n",
       "      <td>95.0</td>\n",
       "      <td>9.0</td>\n",
       "    </tr>\n",
       "    <tr>\n",
       "      <th>1</th>\n",
       "      <td>94127</td>\n",
       "      <td>20624</td>\n",
       "      <td>95313</td>\n",
       "      <td>5796_20170825</td>\n",
       "      <td>August</td>\n",
       "      <td>98.0</td>\n",
       "      <td>Low Risk</td>\n",
       "      <td>63.0</td>\n",
       "      <td>10.0</td>\n",
       "    </tr>\n",
       "    <tr>\n",
       "      <th>2</th>\n",
       "      <td>94127</td>\n",
       "      <td>20624</td>\n",
       "      <td>95313</td>\n",
       "      <td>2808_20170621</td>\n",
       "      <td>June</td>\n",
       "      <td>81.0</td>\n",
       "      <td>Low Risk</td>\n",
       "      <td>67.0</td>\n",
       "      <td>10.0</td>\n",
       "    </tr>\n",
       "    <tr>\n",
       "      <th>3</th>\n",
       "      <td>94127</td>\n",
       "      <td>20624</td>\n",
       "      <td>95313</td>\n",
       "      <td>4630_20170304</td>\n",
       "      <td>March</td>\n",
       "      <td>96.0</td>\n",
       "      <td>Low Risk</td>\n",
       "      <td>67.0</td>\n",
       "      <td>10.0</td>\n",
       "    </tr>\n",
       "    <tr>\n",
       "      <th>4</th>\n",
       "      <td>94127</td>\n",
       "      <td>20624</td>\n",
       "      <td>95313</td>\n",
       "      <td>2808_20190103</td>\n",
       "      <td>January</td>\n",
       "      <td>74.0</td>\n",
       "      <td>Low Risk</td>\n",
       "      <td>67.0</td>\n",
       "      <td>10.0</td>\n",
       "    </tr>\n",
       "  </tbody>\n",
       "</table>\n",
       "</div>"
      ],
      "text/plain": [
       "   business_postal_code  population   avg_income   inspection_id  \\\n",
       "0                 94127        20624       95313  38798_20170928   \n",
       "1                 94127        20624       95313   5796_20170825   \n",
       "2                 94127        20624       95313   2808_20170621   \n",
       "3                 94127        20624       95313   4630_20170304   \n",
       "4                 94127        20624       95313   2808_20190103   \n",
       "\n",
       "  inspection_date  inspection_score risk_category  Neighborhoods  \\\n",
       "0       September              94.0      Low Risk           95.0   \n",
       "1          August              98.0      Low Risk           63.0   \n",
       "2            June              81.0      Low Risk           67.0   \n",
       "3           March              96.0      Low Risk           67.0   \n",
       "4         January              74.0      Low Risk           67.0   \n",
       "\n",
       "   Current Police Districts  \n",
       "0                       9.0  \n",
       "1                      10.0  \n",
       "2                      10.0  \n",
       "3                      10.0  \n",
       "4                      10.0  "
      ]
     },
     "execution_count": 22,
     "metadata": {},
     "output_type": "execute_result"
    }
   ],
   "source": [
    "file_path = Path(\"../Final_Project/Notebooks/risk_df1.csv\")\n",
    "risk_df1 = pd.read_csv(file_path)\n",
    "risk_df1.head()"
   ]
  },
  {
   "cell_type": "code",
   "execution_count": 23,
   "id": "eC2v5ZZnCrey",
   "metadata": {
    "colab": {
     "base_uri": "https://localhost:8080/",
     "height": 441
    },
    "id": "eC2v5ZZnCrey",
    "outputId": "d1fe369a-cc6c-4986-90d4-dbf5d7d4ba0e",
    "scrolled": true
   },
   "outputs": [
    {
     "data": {
      "text/html": [
       "<div>\n",
       "<style scoped>\n",
       "    .dataframe tbody tr th:only-of-type {\n",
       "        vertical-align: middle;\n",
       "    }\n",
       "\n",
       "    .dataframe tbody tr th {\n",
       "        vertical-align: top;\n",
       "    }\n",
       "\n",
       "    .dataframe thead th {\n",
       "        text-align: right;\n",
       "    }\n",
       "</style>\n",
       "<table border=\"1\" class=\"dataframe\">\n",
       "  <thead>\n",
       "    <tr style=\"text-align: right;\">\n",
       "      <th></th>\n",
       "      <th>business_postal_code</th>\n",
       "      <th>population</th>\n",
       "      <th>avg_income</th>\n",
       "      <th>inspection_id</th>\n",
       "      <th>inspection_date</th>\n",
       "      <th>inspection_score</th>\n",
       "      <th>risk_category</th>\n",
       "      <th>Neighborhoods</th>\n",
       "      <th>Current Police Districts</th>\n",
       "    </tr>\n",
       "  </thead>\n",
       "  <tbody>\n",
       "    <tr>\n",
       "      <th>0</th>\n",
       "      <td>94127</td>\n",
       "      <td>20624</td>\n",
       "      <td>95313</td>\n",
       "      <td>38798_20170928</td>\n",
       "      <td>September</td>\n",
       "      <td>94.0</td>\n",
       "      <td>Low Risk</td>\n",
       "      <td>95.0</td>\n",
       "      <td>9.0</td>\n",
       "    </tr>\n",
       "    <tr>\n",
       "      <th>1</th>\n",
       "      <td>94127</td>\n",
       "      <td>20624</td>\n",
       "      <td>95313</td>\n",
       "      <td>5796_20170825</td>\n",
       "      <td>August</td>\n",
       "      <td>98.0</td>\n",
       "      <td>Low Risk</td>\n",
       "      <td>63.0</td>\n",
       "      <td>10.0</td>\n",
       "    </tr>\n",
       "    <tr>\n",
       "      <th>2</th>\n",
       "      <td>94127</td>\n",
       "      <td>20624</td>\n",
       "      <td>95313</td>\n",
       "      <td>2808_20170621</td>\n",
       "      <td>June</td>\n",
       "      <td>81.0</td>\n",
       "      <td>Low Risk</td>\n",
       "      <td>67.0</td>\n",
       "      <td>10.0</td>\n",
       "    </tr>\n",
       "    <tr>\n",
       "      <th>3</th>\n",
       "      <td>94127</td>\n",
       "      <td>20624</td>\n",
       "      <td>95313</td>\n",
       "      <td>4630_20170304</td>\n",
       "      <td>March</td>\n",
       "      <td>96.0</td>\n",
       "      <td>Low Risk</td>\n",
       "      <td>67.0</td>\n",
       "      <td>10.0</td>\n",
       "    </tr>\n",
       "    <tr>\n",
       "      <th>4</th>\n",
       "      <td>94127</td>\n",
       "      <td>20624</td>\n",
       "      <td>95313</td>\n",
       "      <td>2808_20190103</td>\n",
       "      <td>January</td>\n",
       "      <td>74.0</td>\n",
       "      <td>Low Risk</td>\n",
       "      <td>67.0</td>\n",
       "      <td>10.0</td>\n",
       "    </tr>\n",
       "    <tr>\n",
       "      <th>...</th>\n",
       "      <td>...</td>\n",
       "      <td>...</td>\n",
       "      <td>...</td>\n",
       "      <td>...</td>\n",
       "      <td>...</td>\n",
       "      <td>...</td>\n",
       "      <td>...</td>\n",
       "      <td>...</td>\n",
       "      <td>...</td>\n",
       "    </tr>\n",
       "    <tr>\n",
       "      <th>20964</th>\n",
       "      <td>94101</td>\n",
       "      <td>0</td>\n",
       "      <td>0</td>\n",
       "      <td>65856_20190117</td>\n",
       "      <td>January</td>\n",
       "      <td>86.0</td>\n",
       "      <td>Low Risk</td>\n",
       "      <td>32.0</td>\n",
       "      <td>5.0</td>\n",
       "    </tr>\n",
       "    <tr>\n",
       "      <th>20965</th>\n",
       "      <td>94101</td>\n",
       "      <td>0</td>\n",
       "      <td>0</td>\n",
       "      <td>65856_20190828</td>\n",
       "      <td>August</td>\n",
       "      <td>84.0</td>\n",
       "      <td>Moderate Risk</td>\n",
       "      <td>32.0</td>\n",
       "      <td>5.0</td>\n",
       "    </tr>\n",
       "    <tr>\n",
       "      <th>20966</th>\n",
       "      <td>94101</td>\n",
       "      <td>0</td>\n",
       "      <td>0</td>\n",
       "      <td>65856_20170821</td>\n",
       "      <td>August</td>\n",
       "      <td>73.0</td>\n",
       "      <td>High Risk</td>\n",
       "      <td>32.0</td>\n",
       "      <td>5.0</td>\n",
       "    </tr>\n",
       "    <tr>\n",
       "      <th>20967</th>\n",
       "      <td>94101</td>\n",
       "      <td>0</td>\n",
       "      <td>0</td>\n",
       "      <td>65856_20170821</td>\n",
       "      <td>August</td>\n",
       "      <td>73.0</td>\n",
       "      <td>Low Risk</td>\n",
       "      <td>32.0</td>\n",
       "      <td>5.0</td>\n",
       "    </tr>\n",
       "    <tr>\n",
       "      <th>20968</th>\n",
       "      <td>94101</td>\n",
       "      <td>0</td>\n",
       "      <td>0</td>\n",
       "      <td>65856_20170821</td>\n",
       "      <td>August</td>\n",
       "      <td>73.0</td>\n",
       "      <td>Low Risk</td>\n",
       "      <td>32.0</td>\n",
       "      <td>5.0</td>\n",
       "    </tr>\n",
       "  </tbody>\n",
       "</table>\n",
       "<p>20969 rows × 9 columns</p>\n",
       "</div>"
      ],
      "text/plain": [
       "       business_postal_code  population   avg_income   inspection_id  \\\n",
       "0                     94127        20624       95313  38798_20170928   \n",
       "1                     94127        20624       95313   5796_20170825   \n",
       "2                     94127        20624       95313   2808_20170621   \n",
       "3                     94127        20624       95313   4630_20170304   \n",
       "4                     94127        20624       95313   2808_20190103   \n",
       "...                     ...          ...         ...             ...   \n",
       "20964                 94101            0           0  65856_20190117   \n",
       "20965                 94101            0           0  65856_20190828   \n",
       "20966                 94101            0           0  65856_20170821   \n",
       "20967                 94101            0           0  65856_20170821   \n",
       "20968                 94101            0           0  65856_20170821   \n",
       "\n",
       "      inspection_date  inspection_score  risk_category  Neighborhoods  \\\n",
       "0           September              94.0       Low Risk           95.0   \n",
       "1              August              98.0       Low Risk           63.0   \n",
       "2                June              81.0       Low Risk           67.0   \n",
       "3               March              96.0       Low Risk           67.0   \n",
       "4             January              74.0       Low Risk           67.0   \n",
       "...               ...               ...            ...            ...   \n",
       "20964         January              86.0       Low Risk           32.0   \n",
       "20965          August              84.0  Moderate Risk           32.0   \n",
       "20966          August              73.0      High Risk           32.0   \n",
       "20967          August              73.0       Low Risk           32.0   \n",
       "20968          August              73.0       Low Risk           32.0   \n",
       "\n",
       "       Current Police Districts  \n",
       "0                           9.0  \n",
       "1                          10.0  \n",
       "2                          10.0  \n",
       "3                          10.0  \n",
       "4                          10.0  \n",
       "...                         ...  \n",
       "20964                       5.0  \n",
       "20965                       5.0  \n",
       "20966                       5.0  \n",
       "20967                       5.0  \n",
       "20968                       5.0  \n",
       "\n",
       "[20969 rows x 9 columns]"
      ]
     },
     "execution_count": 23,
     "metadata": {},
     "output_type": "execute_result"
    }
   ],
   "source": [
    "risk_df1"
   ]
  },
  {
   "cell_type": "code",
   "execution_count": 24,
   "id": "g7pUnphCvdeT",
   "metadata": {
    "id": "g7pUnphCvdeT"
   },
   "outputs": [],
   "source": [
    "#change risk_category to binary values. Label 'Moderate Risk' and 'Low Risk' == 0\n",
    "\n",
    "y_binary = []\n",
    "\n",
    "for i in risk_df1['risk_category']:\n",
    "  if i == 'High Risk':\n",
    "    y_binary.append(1)\n",
    "\n",
    "  elif i == 'Moderate Risk':\n",
    "    y_binary.append(0)\n",
    "\n",
    "  else:\n",
    "    y_binary.append(0) \n",
    "\n",
    "risk_df1['risk_category'] = y_binary"
   ]
  },
  {
   "cell_type": "code",
   "execution_count": 25,
   "id": "c2n018sODRcI",
   "metadata": {
    "colab": {
     "base_uri": "https://localhost:8080/"
    },
    "id": "c2n018sODRcI",
    "outputId": "fe5b215c-8ee5-4c55-ed5a-7962f6560742"
   },
   "outputs": [
    {
     "data": {
      "text/plain": [
       "0    18015\n",
       "1     2954\n",
       "Name: risk_category, dtype: int64"
      ]
     },
     "execution_count": 25,
     "metadata": {},
     "output_type": "execute_result"
    }
   ],
   "source": [
    "risk_df1['risk_category'].value_counts()"
   ]
  },
  {
   "cell_type": "code",
   "execution_count": 26,
   "id": "JQ7HgOcG3qDb",
   "metadata": {
    "colab": {
     "base_uri": "https://localhost:8080/",
     "height": 441
    },
    "id": "JQ7HgOcG3qDb",
    "outputId": "6d4840d0-4495-4abd-eafd-9207a9ad5d64"
   },
   "outputs": [
    {
     "data": {
      "text/html": [
       "<div>\n",
       "<style scoped>\n",
       "    .dataframe tbody tr th:only-of-type {\n",
       "        vertical-align: middle;\n",
       "    }\n",
       "\n",
       "    .dataframe tbody tr th {\n",
       "        vertical-align: top;\n",
       "    }\n",
       "\n",
       "    .dataframe thead th {\n",
       "        text-align: right;\n",
       "    }\n",
       "</style>\n",
       "<table border=\"1\" class=\"dataframe\">\n",
       "  <thead>\n",
       "    <tr style=\"text-align: right;\">\n",
       "      <th></th>\n",
       "      <th>business_postal_code</th>\n",
       "      <th>population</th>\n",
       "      <th>avg_income</th>\n",
       "      <th>inspection_id</th>\n",
       "      <th>inspection_date</th>\n",
       "      <th>inspection_score</th>\n",
       "      <th>risk_category</th>\n",
       "      <th>Neighborhoods</th>\n",
       "      <th>Current Police Districts</th>\n",
       "    </tr>\n",
       "  </thead>\n",
       "  <tbody>\n",
       "    <tr>\n",
       "      <th>0</th>\n",
       "      <td>94127</td>\n",
       "      <td>20624</td>\n",
       "      <td>95313</td>\n",
       "      <td>38798_20170928</td>\n",
       "      <td>September</td>\n",
       "      <td>94.0</td>\n",
       "      <td>0</td>\n",
       "      <td>95.0</td>\n",
       "      <td>9.0</td>\n",
       "    </tr>\n",
       "    <tr>\n",
       "      <th>1</th>\n",
       "      <td>94127</td>\n",
       "      <td>20624</td>\n",
       "      <td>95313</td>\n",
       "      <td>5796_20170825</td>\n",
       "      <td>August</td>\n",
       "      <td>98.0</td>\n",
       "      <td>0</td>\n",
       "      <td>63.0</td>\n",
       "      <td>10.0</td>\n",
       "    </tr>\n",
       "    <tr>\n",
       "      <th>2</th>\n",
       "      <td>94127</td>\n",
       "      <td>20624</td>\n",
       "      <td>95313</td>\n",
       "      <td>2808_20170621</td>\n",
       "      <td>June</td>\n",
       "      <td>81.0</td>\n",
       "      <td>0</td>\n",
       "      <td>67.0</td>\n",
       "      <td>10.0</td>\n",
       "    </tr>\n",
       "    <tr>\n",
       "      <th>3</th>\n",
       "      <td>94127</td>\n",
       "      <td>20624</td>\n",
       "      <td>95313</td>\n",
       "      <td>4630_20170304</td>\n",
       "      <td>March</td>\n",
       "      <td>96.0</td>\n",
       "      <td>0</td>\n",
       "      <td>67.0</td>\n",
       "      <td>10.0</td>\n",
       "    </tr>\n",
       "    <tr>\n",
       "      <th>4</th>\n",
       "      <td>94127</td>\n",
       "      <td>20624</td>\n",
       "      <td>95313</td>\n",
       "      <td>2808_20190103</td>\n",
       "      <td>January</td>\n",
       "      <td>74.0</td>\n",
       "      <td>0</td>\n",
       "      <td>67.0</td>\n",
       "      <td>10.0</td>\n",
       "    </tr>\n",
       "    <tr>\n",
       "      <th>...</th>\n",
       "      <td>...</td>\n",
       "      <td>...</td>\n",
       "      <td>...</td>\n",
       "      <td>...</td>\n",
       "      <td>...</td>\n",
       "      <td>...</td>\n",
       "      <td>...</td>\n",
       "      <td>...</td>\n",
       "      <td>...</td>\n",
       "    </tr>\n",
       "    <tr>\n",
       "      <th>20964</th>\n",
       "      <td>94101</td>\n",
       "      <td>0</td>\n",
       "      <td>0</td>\n",
       "      <td>65856_20190117</td>\n",
       "      <td>January</td>\n",
       "      <td>86.0</td>\n",
       "      <td>0</td>\n",
       "      <td>32.0</td>\n",
       "      <td>5.0</td>\n",
       "    </tr>\n",
       "    <tr>\n",
       "      <th>20965</th>\n",
       "      <td>94101</td>\n",
       "      <td>0</td>\n",
       "      <td>0</td>\n",
       "      <td>65856_20190828</td>\n",
       "      <td>August</td>\n",
       "      <td>84.0</td>\n",
       "      <td>0</td>\n",
       "      <td>32.0</td>\n",
       "      <td>5.0</td>\n",
       "    </tr>\n",
       "    <tr>\n",
       "      <th>20966</th>\n",
       "      <td>94101</td>\n",
       "      <td>0</td>\n",
       "      <td>0</td>\n",
       "      <td>65856_20170821</td>\n",
       "      <td>August</td>\n",
       "      <td>73.0</td>\n",
       "      <td>1</td>\n",
       "      <td>32.0</td>\n",
       "      <td>5.0</td>\n",
       "    </tr>\n",
       "    <tr>\n",
       "      <th>20967</th>\n",
       "      <td>94101</td>\n",
       "      <td>0</td>\n",
       "      <td>0</td>\n",
       "      <td>65856_20170821</td>\n",
       "      <td>August</td>\n",
       "      <td>73.0</td>\n",
       "      <td>0</td>\n",
       "      <td>32.0</td>\n",
       "      <td>5.0</td>\n",
       "    </tr>\n",
       "    <tr>\n",
       "      <th>20968</th>\n",
       "      <td>94101</td>\n",
       "      <td>0</td>\n",
       "      <td>0</td>\n",
       "      <td>65856_20170821</td>\n",
       "      <td>August</td>\n",
       "      <td>73.0</td>\n",
       "      <td>0</td>\n",
       "      <td>32.0</td>\n",
       "      <td>5.0</td>\n",
       "    </tr>\n",
       "  </tbody>\n",
       "</table>\n",
       "<p>20969 rows × 9 columns</p>\n",
       "</div>"
      ],
      "text/plain": [
       "       business_postal_code  population   avg_income   inspection_id  \\\n",
       "0                     94127        20624       95313  38798_20170928   \n",
       "1                     94127        20624       95313   5796_20170825   \n",
       "2                     94127        20624       95313   2808_20170621   \n",
       "3                     94127        20624       95313   4630_20170304   \n",
       "4                     94127        20624       95313   2808_20190103   \n",
       "...                     ...          ...         ...             ...   \n",
       "20964                 94101            0           0  65856_20190117   \n",
       "20965                 94101            0           0  65856_20190828   \n",
       "20966                 94101            0           0  65856_20170821   \n",
       "20967                 94101            0           0  65856_20170821   \n",
       "20968                 94101            0           0  65856_20170821   \n",
       "\n",
       "      inspection_date  inspection_score  risk_category  Neighborhoods  \\\n",
       "0           September              94.0              0           95.0   \n",
       "1              August              98.0              0           63.0   \n",
       "2                June              81.0              0           67.0   \n",
       "3               March              96.0              0           67.0   \n",
       "4             January              74.0              0           67.0   \n",
       "...               ...               ...            ...            ...   \n",
       "20964         January              86.0              0           32.0   \n",
       "20965          August              84.0              0           32.0   \n",
       "20966          August              73.0              1           32.0   \n",
       "20967          August              73.0              0           32.0   \n",
       "20968          August              73.0              0           32.0   \n",
       "\n",
       "       Current Police Districts  \n",
       "0                           9.0  \n",
       "1                          10.0  \n",
       "2                          10.0  \n",
       "3                          10.0  \n",
       "4                          10.0  \n",
       "...                         ...  \n",
       "20964                       5.0  \n",
       "20965                       5.0  \n",
       "20966                       5.0  \n",
       "20967                       5.0  \n",
       "20968                       5.0  \n",
       "\n",
       "[20969 rows x 9 columns]"
      ]
     },
     "execution_count": 26,
     "metadata": {},
     "output_type": "execute_result"
    }
   ],
   "source": [
    "risk_df1"
   ]
  },
  {
   "cell_type": "code",
   "execution_count": 27,
   "id": "58083b18",
   "metadata": {
    "colab": {
     "base_uri": "https://localhost:8080/"
    },
    "id": "58083b18",
    "outputId": "7e2cc45f-039a-4a97-d64d-4a7a0c87a7f6"
   },
   "outputs": [
    {
     "data": {
      "text/plain": [
       "0    18015\n",
       "1     2954\n",
       "Name: risk_category, dtype: int64"
      ]
     },
     "execution_count": 27,
     "metadata": {},
     "output_type": "execute_result"
    }
   ],
   "source": [
    "# Create our features. \n",
    "X = risk_df1.drop(columns='risk_category')\n",
    "\n",
    "# Create our target\n",
    "y = risk_df1['risk_category']\n",
    "y.value_counts()"
   ]
  },
  {
   "cell_type": "code",
   "execution_count": 28,
   "id": "fb660eae",
   "metadata": {
    "colab": {
     "base_uri": "https://localhost:8080/",
     "height": 261
    },
    "id": "fb660eae",
    "outputId": "a427b4cf-a8be-426e-8f54-07a6493862ec"
   },
   "outputs": [
    {
     "data": {
      "text/html": [
       "<div>\n",
       "<style scoped>\n",
       "    .dataframe tbody tr th:only-of-type {\n",
       "        vertical-align: middle;\n",
       "    }\n",
       "\n",
       "    .dataframe tbody tr th {\n",
       "        vertical-align: top;\n",
       "    }\n",
       "\n",
       "    .dataframe thead th {\n",
       "        text-align: right;\n",
       "    }\n",
       "</style>\n",
       "<table border=\"1\" class=\"dataframe\">\n",
       "  <thead>\n",
       "    <tr style=\"text-align: right;\">\n",
       "      <th></th>\n",
       "      <th>business_postal_code</th>\n",
       "      <th>population</th>\n",
       "      <th>avg_income</th>\n",
       "      <th>inspection_score</th>\n",
       "      <th>Neighborhoods</th>\n",
       "      <th>Current Police Districts</th>\n",
       "    </tr>\n",
       "  </thead>\n",
       "  <tbody>\n",
       "    <tr>\n",
       "      <th>count</th>\n",
       "      <td>20969.000000</td>\n",
       "      <td>20969.000000</td>\n",
       "      <td>20969.000000</td>\n",
       "      <td>20969.000000</td>\n",
       "      <td>20969.000000</td>\n",
       "      <td>20969.000000</td>\n",
       "    </tr>\n",
       "    <tr>\n",
       "      <th>mean</th>\n",
       "      <td>94113.763270</td>\n",
       "      <td>36628.411751</td>\n",
       "      <td>55053.795317</td>\n",
       "      <td>85.335066</td>\n",
       "      <td>57.718251</td>\n",
       "      <td>5.303496</td>\n",
       "    </tr>\n",
       "    <tr>\n",
       "      <th>std</th>\n",
       "      <td>9.368833</td>\n",
       "      <td>22194.064691</td>\n",
       "      <td>26574.280130</td>\n",
       "      <td>8.094191</td>\n",
       "      <td>35.207225</td>\n",
       "      <td>2.717798</td>\n",
       "    </tr>\n",
       "    <tr>\n",
       "      <th>min</th>\n",
       "      <td>94101.000000</td>\n",
       "      <td>0.000000</td>\n",
       "      <td>0.000000</td>\n",
       "      <td>46.000000</td>\n",
       "      <td>1.000000</td>\n",
       "      <td>1.000000</td>\n",
       "    </tr>\n",
       "    <tr>\n",
       "      <th>25%</th>\n",
       "      <td>94107.000000</td>\n",
       "      <td>23016.000000</td>\n",
       "      <td>40990.000000</td>\n",
       "      <td>81.000000</td>\n",
       "      <td>31.000000</td>\n",
       "      <td>3.000000</td>\n",
       "    </tr>\n",
       "    <tr>\n",
       "      <th>50%</th>\n",
       "      <td>94110.000000</td>\n",
       "      <td>30574.000000</td>\n",
       "      <td>54342.000000</td>\n",
       "      <td>87.000000</td>\n",
       "      <td>53.000000</td>\n",
       "      <td>6.000000</td>\n",
       "    </tr>\n",
       "    <tr>\n",
       "      <th>75%</th>\n",
       "      <td>94121.000000</td>\n",
       "      <td>55492.000000</td>\n",
       "      <td>61609.000000</td>\n",
       "      <td>92.000000</td>\n",
       "      <td>97.000000</td>\n",
       "      <td>8.000000</td>\n",
       "    </tr>\n",
       "    <tr>\n",
       "      <th>max</th>\n",
       "      <td>94158.000000</td>\n",
       "      <td>74633.000000</td>\n",
       "      <td>163949.000000</td>\n",
       "      <td>100.000000</td>\n",
       "      <td>117.000000</td>\n",
       "      <td>10.000000</td>\n",
       "    </tr>\n",
       "  </tbody>\n",
       "</table>\n",
       "</div>"
      ],
      "text/plain": [
       "       business_postal_code   population      avg_income  inspection_score  \\\n",
       "count          20969.000000  20969.000000   20969.000000      20969.000000   \n",
       "mean           94113.763270  36628.411751   55053.795317         85.335066   \n",
       "std                9.368833  22194.064691   26574.280130          8.094191   \n",
       "min            94101.000000      0.000000       0.000000         46.000000   \n",
       "25%            94107.000000  23016.000000   40990.000000         81.000000   \n",
       "50%            94110.000000  30574.000000   54342.000000         87.000000   \n",
       "75%            94121.000000  55492.000000   61609.000000         92.000000   \n",
       "max            94158.000000  74633.000000  163949.000000        100.000000   \n",
       "\n",
       "       Neighborhoods  Current Police Districts  \n",
       "count   20969.000000              20969.000000  \n",
       "mean       57.718251                  5.303496  \n",
       "std        35.207225                  2.717798  \n",
       "min         1.000000                  1.000000  \n",
       "25%        31.000000                  3.000000  \n",
       "50%        53.000000                  6.000000  \n",
       "75%        97.000000                  8.000000  \n",
       "max       117.000000                 10.000000  "
      ]
     },
     "execution_count": 28,
     "metadata": {},
     "output_type": "execute_result"
    }
   ],
   "source": [
    "X.describe()"
   ]
  },
  {
   "cell_type": "code",
   "execution_count": 29,
   "id": "ZqynMYgET6xx",
   "metadata": {
    "colab": {
     "base_uri": "https://localhost:8080/",
     "height": 441
    },
    "id": "ZqynMYgET6xx",
    "outputId": "3dbce961-9b3c-4a19-92c6-1885e16be929"
   },
   "outputs": [
    {
     "data": {
      "text/html": [
       "<div>\n",
       "<style scoped>\n",
       "    .dataframe tbody tr th:only-of-type {\n",
       "        vertical-align: middle;\n",
       "    }\n",
       "\n",
       "    .dataframe tbody tr th {\n",
       "        vertical-align: top;\n",
       "    }\n",
       "\n",
       "    .dataframe thead th {\n",
       "        text-align: right;\n",
       "    }\n",
       "</style>\n",
       "<table border=\"1\" class=\"dataframe\">\n",
       "  <thead>\n",
       "    <tr style=\"text-align: right;\">\n",
       "      <th></th>\n",
       "      <th>business_postal_code</th>\n",
       "      <th>population</th>\n",
       "      <th>avg_income</th>\n",
       "      <th>inspection_id</th>\n",
       "      <th>inspection_date</th>\n",
       "      <th>inspection_score</th>\n",
       "      <th>Neighborhoods</th>\n",
       "      <th>Current Police Districts</th>\n",
       "    </tr>\n",
       "  </thead>\n",
       "  <tbody>\n",
       "    <tr>\n",
       "      <th>0</th>\n",
       "      <td>94127</td>\n",
       "      <td>20624</td>\n",
       "      <td>95313</td>\n",
       "      <td>38798_20170928</td>\n",
       "      <td>September</td>\n",
       "      <td>94.0</td>\n",
       "      <td>95.0</td>\n",
       "      <td>9.0</td>\n",
       "    </tr>\n",
       "    <tr>\n",
       "      <th>1</th>\n",
       "      <td>94127</td>\n",
       "      <td>20624</td>\n",
       "      <td>95313</td>\n",
       "      <td>5796_20170825</td>\n",
       "      <td>August</td>\n",
       "      <td>98.0</td>\n",
       "      <td>63.0</td>\n",
       "      <td>10.0</td>\n",
       "    </tr>\n",
       "    <tr>\n",
       "      <th>2</th>\n",
       "      <td>94127</td>\n",
       "      <td>20624</td>\n",
       "      <td>95313</td>\n",
       "      <td>2808_20170621</td>\n",
       "      <td>June</td>\n",
       "      <td>81.0</td>\n",
       "      <td>67.0</td>\n",
       "      <td>10.0</td>\n",
       "    </tr>\n",
       "    <tr>\n",
       "      <th>3</th>\n",
       "      <td>94127</td>\n",
       "      <td>20624</td>\n",
       "      <td>95313</td>\n",
       "      <td>4630_20170304</td>\n",
       "      <td>March</td>\n",
       "      <td>96.0</td>\n",
       "      <td>67.0</td>\n",
       "      <td>10.0</td>\n",
       "    </tr>\n",
       "    <tr>\n",
       "      <th>4</th>\n",
       "      <td>94127</td>\n",
       "      <td>20624</td>\n",
       "      <td>95313</td>\n",
       "      <td>2808_20190103</td>\n",
       "      <td>January</td>\n",
       "      <td>74.0</td>\n",
       "      <td>67.0</td>\n",
       "      <td>10.0</td>\n",
       "    </tr>\n",
       "    <tr>\n",
       "      <th>...</th>\n",
       "      <td>...</td>\n",
       "      <td>...</td>\n",
       "      <td>...</td>\n",
       "      <td>...</td>\n",
       "      <td>...</td>\n",
       "      <td>...</td>\n",
       "      <td>...</td>\n",
       "      <td>...</td>\n",
       "    </tr>\n",
       "    <tr>\n",
       "      <th>20964</th>\n",
       "      <td>94101</td>\n",
       "      <td>0</td>\n",
       "      <td>0</td>\n",
       "      <td>65856_20190117</td>\n",
       "      <td>January</td>\n",
       "      <td>86.0</td>\n",
       "      <td>32.0</td>\n",
       "      <td>5.0</td>\n",
       "    </tr>\n",
       "    <tr>\n",
       "      <th>20965</th>\n",
       "      <td>94101</td>\n",
       "      <td>0</td>\n",
       "      <td>0</td>\n",
       "      <td>65856_20190828</td>\n",
       "      <td>August</td>\n",
       "      <td>84.0</td>\n",
       "      <td>32.0</td>\n",
       "      <td>5.0</td>\n",
       "    </tr>\n",
       "    <tr>\n",
       "      <th>20966</th>\n",
       "      <td>94101</td>\n",
       "      <td>0</td>\n",
       "      <td>0</td>\n",
       "      <td>65856_20170821</td>\n",
       "      <td>August</td>\n",
       "      <td>73.0</td>\n",
       "      <td>32.0</td>\n",
       "      <td>5.0</td>\n",
       "    </tr>\n",
       "    <tr>\n",
       "      <th>20967</th>\n",
       "      <td>94101</td>\n",
       "      <td>0</td>\n",
       "      <td>0</td>\n",
       "      <td>65856_20170821</td>\n",
       "      <td>August</td>\n",
       "      <td>73.0</td>\n",
       "      <td>32.0</td>\n",
       "      <td>5.0</td>\n",
       "    </tr>\n",
       "    <tr>\n",
       "      <th>20968</th>\n",
       "      <td>94101</td>\n",
       "      <td>0</td>\n",
       "      <td>0</td>\n",
       "      <td>65856_20170821</td>\n",
       "      <td>August</td>\n",
       "      <td>73.0</td>\n",
       "      <td>32.0</td>\n",
       "      <td>5.0</td>\n",
       "    </tr>\n",
       "  </tbody>\n",
       "</table>\n",
       "<p>20969 rows × 8 columns</p>\n",
       "</div>"
      ],
      "text/plain": [
       "       business_postal_code  population   avg_income   inspection_id  \\\n",
       "0                     94127        20624       95313  38798_20170928   \n",
       "1                     94127        20624       95313   5796_20170825   \n",
       "2                     94127        20624       95313   2808_20170621   \n",
       "3                     94127        20624       95313   4630_20170304   \n",
       "4                     94127        20624       95313   2808_20190103   \n",
       "...                     ...          ...         ...             ...   \n",
       "20964                 94101            0           0  65856_20190117   \n",
       "20965                 94101            0           0  65856_20190828   \n",
       "20966                 94101            0           0  65856_20170821   \n",
       "20967                 94101            0           0  65856_20170821   \n",
       "20968                 94101            0           0  65856_20170821   \n",
       "\n",
       "      inspection_date  inspection_score  Neighborhoods  \\\n",
       "0           September              94.0           95.0   \n",
       "1              August              98.0           63.0   \n",
       "2                June              81.0           67.0   \n",
       "3               March              96.0           67.0   \n",
       "4             January              74.0           67.0   \n",
       "...               ...               ...            ...   \n",
       "20964         January              86.0           32.0   \n",
       "20965          August              84.0           32.0   \n",
       "20966          August              73.0           32.0   \n",
       "20967          August              73.0           32.0   \n",
       "20968          August              73.0           32.0   \n",
       "\n",
       "       Current Police Districts  \n",
       "0                           9.0  \n",
       "1                          10.0  \n",
       "2                          10.0  \n",
       "3                          10.0  \n",
       "4                          10.0  \n",
       "...                         ...  \n",
       "20964                       5.0  \n",
       "20965                       5.0  \n",
       "20966                       5.0  \n",
       "20967                       5.0  \n",
       "20968                       5.0  \n",
       "\n",
       "[20969 rows x 8 columns]"
      ]
     },
     "execution_count": 29,
     "metadata": {},
     "output_type": "execute_result"
    }
   ],
   "source": [
    "#view X\n",
    "X"
   ]
  },
  {
   "cell_type": "code",
   "execution_count": 30,
   "id": "fa649d24",
   "metadata": {
    "id": "fa649d24"
   },
   "outputs": [],
   "source": [
    "# encode Month as a number\n",
    "months_num = {\n",
    "   \"January\": 1,\n",
    "   \"February\": 2,\n",
    "   \"March\": 3,\n",
    "   \"April\": 4,\n",
    "   \"May\": 5,\n",
    "   \"June\": 6,\n",
    "   \"July\": 7,\n",
    "   \"August\": 8,\n",
    "   \"September\": 9,\n",
    "   \"October\": 10,\n",
    "   \"November\": 11,\n",
    "   \"December\": 12,\n",
    "}"
   ]
  },
  {
   "cell_type": "code",
   "execution_count": 31,
   "id": "a25b321c",
   "metadata": {
    "id": "a25b321c"
   },
   "outputs": [],
   "source": [
    "X[\"months_num\"] = X[\"inspection_date\"].apply(lambda x: months_num[x])"
   ]
  },
  {
   "cell_type": "code",
   "execution_count": 32,
   "id": "0940fbf7",
   "metadata": {
    "colab": {
     "base_uri": "https://localhost:8080/"
    },
    "id": "0940fbf7",
    "outputId": "243dbd75-a1d1-41c2-c4e5-84883d8a48db"
   },
   "outputs": [
    {
     "data": {
      "text/plain": [
       "6"
      ]
     },
     "execution_count": 32,
     "metadata": {},
     "output_type": "execute_result"
    }
   ],
   "source": [
    "months_num[\"June\"]"
   ]
  },
  {
   "cell_type": "code",
   "execution_count": 33,
   "id": "Xe_Hkvmw31Dy",
   "metadata": {
    "colab": {
     "base_uri": "https://localhost:8080/",
     "height": 441
    },
    "id": "Xe_Hkvmw31Dy",
    "outputId": "a4c33929-574c-4db0-ea3b-bbc41f1e2bc8"
   },
   "outputs": [
    {
     "data": {
      "text/html": [
       "<div>\n",
       "<style scoped>\n",
       "    .dataframe tbody tr th:only-of-type {\n",
       "        vertical-align: middle;\n",
       "    }\n",
       "\n",
       "    .dataframe tbody tr th {\n",
       "        vertical-align: top;\n",
       "    }\n",
       "\n",
       "    .dataframe thead th {\n",
       "        text-align: right;\n",
       "    }\n",
       "</style>\n",
       "<table border=\"1\" class=\"dataframe\">\n",
       "  <thead>\n",
       "    <tr style=\"text-align: right;\">\n",
       "      <th></th>\n",
       "      <th>business_postal_code</th>\n",
       "      <th>population</th>\n",
       "      <th>avg_income</th>\n",
       "      <th>inspection_id</th>\n",
       "      <th>inspection_date</th>\n",
       "      <th>inspection_score</th>\n",
       "      <th>Neighborhoods</th>\n",
       "      <th>Current Police Districts</th>\n",
       "      <th>months_num</th>\n",
       "    </tr>\n",
       "  </thead>\n",
       "  <tbody>\n",
       "    <tr>\n",
       "      <th>0</th>\n",
       "      <td>94127</td>\n",
       "      <td>20624</td>\n",
       "      <td>95313</td>\n",
       "      <td>38798_20170928</td>\n",
       "      <td>September</td>\n",
       "      <td>94.0</td>\n",
       "      <td>95.0</td>\n",
       "      <td>9.0</td>\n",
       "      <td>9</td>\n",
       "    </tr>\n",
       "    <tr>\n",
       "      <th>1</th>\n",
       "      <td>94127</td>\n",
       "      <td>20624</td>\n",
       "      <td>95313</td>\n",
       "      <td>5796_20170825</td>\n",
       "      <td>August</td>\n",
       "      <td>98.0</td>\n",
       "      <td>63.0</td>\n",
       "      <td>10.0</td>\n",
       "      <td>8</td>\n",
       "    </tr>\n",
       "    <tr>\n",
       "      <th>2</th>\n",
       "      <td>94127</td>\n",
       "      <td>20624</td>\n",
       "      <td>95313</td>\n",
       "      <td>2808_20170621</td>\n",
       "      <td>June</td>\n",
       "      <td>81.0</td>\n",
       "      <td>67.0</td>\n",
       "      <td>10.0</td>\n",
       "      <td>6</td>\n",
       "    </tr>\n",
       "    <tr>\n",
       "      <th>3</th>\n",
       "      <td>94127</td>\n",
       "      <td>20624</td>\n",
       "      <td>95313</td>\n",
       "      <td>4630_20170304</td>\n",
       "      <td>March</td>\n",
       "      <td>96.0</td>\n",
       "      <td>67.0</td>\n",
       "      <td>10.0</td>\n",
       "      <td>3</td>\n",
       "    </tr>\n",
       "    <tr>\n",
       "      <th>4</th>\n",
       "      <td>94127</td>\n",
       "      <td>20624</td>\n",
       "      <td>95313</td>\n",
       "      <td>2808_20190103</td>\n",
       "      <td>January</td>\n",
       "      <td>74.0</td>\n",
       "      <td>67.0</td>\n",
       "      <td>10.0</td>\n",
       "      <td>1</td>\n",
       "    </tr>\n",
       "    <tr>\n",
       "      <th>...</th>\n",
       "      <td>...</td>\n",
       "      <td>...</td>\n",
       "      <td>...</td>\n",
       "      <td>...</td>\n",
       "      <td>...</td>\n",
       "      <td>...</td>\n",
       "      <td>...</td>\n",
       "      <td>...</td>\n",
       "      <td>...</td>\n",
       "    </tr>\n",
       "    <tr>\n",
       "      <th>20964</th>\n",
       "      <td>94101</td>\n",
       "      <td>0</td>\n",
       "      <td>0</td>\n",
       "      <td>65856_20190117</td>\n",
       "      <td>January</td>\n",
       "      <td>86.0</td>\n",
       "      <td>32.0</td>\n",
       "      <td>5.0</td>\n",
       "      <td>1</td>\n",
       "    </tr>\n",
       "    <tr>\n",
       "      <th>20965</th>\n",
       "      <td>94101</td>\n",
       "      <td>0</td>\n",
       "      <td>0</td>\n",
       "      <td>65856_20190828</td>\n",
       "      <td>August</td>\n",
       "      <td>84.0</td>\n",
       "      <td>32.0</td>\n",
       "      <td>5.0</td>\n",
       "      <td>8</td>\n",
       "    </tr>\n",
       "    <tr>\n",
       "      <th>20966</th>\n",
       "      <td>94101</td>\n",
       "      <td>0</td>\n",
       "      <td>0</td>\n",
       "      <td>65856_20170821</td>\n",
       "      <td>August</td>\n",
       "      <td>73.0</td>\n",
       "      <td>32.0</td>\n",
       "      <td>5.0</td>\n",
       "      <td>8</td>\n",
       "    </tr>\n",
       "    <tr>\n",
       "      <th>20967</th>\n",
       "      <td>94101</td>\n",
       "      <td>0</td>\n",
       "      <td>0</td>\n",
       "      <td>65856_20170821</td>\n",
       "      <td>August</td>\n",
       "      <td>73.0</td>\n",
       "      <td>32.0</td>\n",
       "      <td>5.0</td>\n",
       "      <td>8</td>\n",
       "    </tr>\n",
       "    <tr>\n",
       "      <th>20968</th>\n",
       "      <td>94101</td>\n",
       "      <td>0</td>\n",
       "      <td>0</td>\n",
       "      <td>65856_20170821</td>\n",
       "      <td>August</td>\n",
       "      <td>73.0</td>\n",
       "      <td>32.0</td>\n",
       "      <td>5.0</td>\n",
       "      <td>8</td>\n",
       "    </tr>\n",
       "  </tbody>\n",
       "</table>\n",
       "<p>20969 rows × 9 columns</p>\n",
       "</div>"
      ],
      "text/plain": [
       "       business_postal_code  population   avg_income   inspection_id  \\\n",
       "0                     94127        20624       95313  38798_20170928   \n",
       "1                     94127        20624       95313   5796_20170825   \n",
       "2                     94127        20624       95313   2808_20170621   \n",
       "3                     94127        20624       95313   4630_20170304   \n",
       "4                     94127        20624       95313   2808_20190103   \n",
       "...                     ...          ...         ...             ...   \n",
       "20964                 94101            0           0  65856_20190117   \n",
       "20965                 94101            0           0  65856_20190828   \n",
       "20966                 94101            0           0  65856_20170821   \n",
       "20967                 94101            0           0  65856_20170821   \n",
       "20968                 94101            0           0  65856_20170821   \n",
       "\n",
       "      inspection_date  inspection_score  Neighborhoods  \\\n",
       "0           September              94.0           95.0   \n",
       "1              August              98.0           63.0   \n",
       "2                June              81.0           67.0   \n",
       "3               March              96.0           67.0   \n",
       "4             January              74.0           67.0   \n",
       "...               ...               ...            ...   \n",
       "20964         January              86.0           32.0   \n",
       "20965          August              84.0           32.0   \n",
       "20966          August              73.0           32.0   \n",
       "20967          August              73.0           32.0   \n",
       "20968          August              73.0           32.0   \n",
       "\n",
       "       Current Police Districts  months_num  \n",
       "0                           9.0           9  \n",
       "1                          10.0           8  \n",
       "2                          10.0           6  \n",
       "3                          10.0           3  \n",
       "4                          10.0           1  \n",
       "...                         ...         ...  \n",
       "20964                       5.0           1  \n",
       "20965                       5.0           8  \n",
       "20966                       5.0           8  \n",
       "20967                       5.0           8  \n",
       "20968                       5.0           8  \n",
       "\n",
       "[20969 rows x 9 columns]"
      ]
     },
     "execution_count": 33,
     "metadata": {},
     "output_type": "execute_result"
    }
   ],
   "source": [
    "X"
   ]
  },
  {
   "cell_type": "code",
   "execution_count": 34,
   "id": "887be263",
   "metadata": {
    "colab": {
     "base_uri": "https://localhost:8080/",
     "height": 197
    },
    "id": "887be263",
    "outputId": "45f7eec7-7c14-4d89-a8ca-c6be9e02c5b9"
   },
   "outputs": [
    {
     "data": {
      "text/html": [
       "<div>\n",
       "<style scoped>\n",
       "    .dataframe tbody tr th:only-of-type {\n",
       "        vertical-align: middle;\n",
       "    }\n",
       "\n",
       "    .dataframe tbody tr th {\n",
       "        vertical-align: top;\n",
       "    }\n",
       "\n",
       "    .dataframe thead th {\n",
       "        text-align: right;\n",
       "    }\n",
       "</style>\n",
       "<table border=\"1\" class=\"dataframe\">\n",
       "  <thead>\n",
       "    <tr style=\"text-align: right;\">\n",
       "      <th></th>\n",
       "      <th>business_postal_code</th>\n",
       "      <th>population</th>\n",
       "      <th>avg_income</th>\n",
       "      <th>inspection_id</th>\n",
       "      <th>inspection_score</th>\n",
       "      <th>Neighborhoods</th>\n",
       "      <th>Current Police Districts</th>\n",
       "      <th>months_num</th>\n",
       "    </tr>\n",
       "  </thead>\n",
       "  <tbody>\n",
       "    <tr>\n",
       "      <th>0</th>\n",
       "      <td>94127</td>\n",
       "      <td>20624</td>\n",
       "      <td>95313</td>\n",
       "      <td>38798_20170928</td>\n",
       "      <td>94.0</td>\n",
       "      <td>95.0</td>\n",
       "      <td>9.0</td>\n",
       "      <td>9</td>\n",
       "    </tr>\n",
       "    <tr>\n",
       "      <th>1</th>\n",
       "      <td>94127</td>\n",
       "      <td>20624</td>\n",
       "      <td>95313</td>\n",
       "      <td>5796_20170825</td>\n",
       "      <td>98.0</td>\n",
       "      <td>63.0</td>\n",
       "      <td>10.0</td>\n",
       "      <td>8</td>\n",
       "    </tr>\n",
       "    <tr>\n",
       "      <th>2</th>\n",
       "      <td>94127</td>\n",
       "      <td>20624</td>\n",
       "      <td>95313</td>\n",
       "      <td>2808_20170621</td>\n",
       "      <td>81.0</td>\n",
       "      <td>67.0</td>\n",
       "      <td>10.0</td>\n",
       "      <td>6</td>\n",
       "    </tr>\n",
       "    <tr>\n",
       "      <th>3</th>\n",
       "      <td>94127</td>\n",
       "      <td>20624</td>\n",
       "      <td>95313</td>\n",
       "      <td>4630_20170304</td>\n",
       "      <td>96.0</td>\n",
       "      <td>67.0</td>\n",
       "      <td>10.0</td>\n",
       "      <td>3</td>\n",
       "    </tr>\n",
       "    <tr>\n",
       "      <th>4</th>\n",
       "      <td>94127</td>\n",
       "      <td>20624</td>\n",
       "      <td>95313</td>\n",
       "      <td>2808_20190103</td>\n",
       "      <td>74.0</td>\n",
       "      <td>67.0</td>\n",
       "      <td>10.0</td>\n",
       "      <td>1</td>\n",
       "    </tr>\n",
       "  </tbody>\n",
       "</table>\n",
       "</div>"
      ],
      "text/plain": [
       "   business_postal_code  population   avg_income   inspection_id  \\\n",
       "0                 94127        20624       95313  38798_20170928   \n",
       "1                 94127        20624       95313   5796_20170825   \n",
       "2                 94127        20624       95313   2808_20170621   \n",
       "3                 94127        20624       95313   4630_20170304   \n",
       "4                 94127        20624       95313   2808_20190103   \n",
       "\n",
       "   inspection_score  Neighborhoods  Current Police Districts  months_num  \n",
       "0              94.0           95.0                       9.0           9  \n",
       "1              98.0           63.0                      10.0           8  \n",
       "2              81.0           67.0                      10.0           6  \n",
       "3              96.0           67.0                      10.0           3  \n",
       "4              74.0           67.0                      10.0           1  "
      ]
     },
     "execution_count": 34,
     "metadata": {},
     "output_type": "execute_result"
    }
   ],
   "source": [
    "# drop inspection_date\n",
    "X = X.drop(columns=['inspection_date'])\n",
    "X.head()"
   ]
  },
  {
   "cell_type": "code",
   "execution_count": 35,
   "id": "Sj1LbfAMnLIx",
   "metadata": {
    "colab": {
     "base_uri": "https://localhost:8080/"
    },
    "id": "Sj1LbfAMnLIx",
    "outputId": "967a6af8-2a94-418f-e04b-1f7a73b0d262"
   },
   "outputs": [
    {
     "data": {
      "text/plain": [
       "(20969, 8)"
      ]
     },
     "execution_count": 35,
     "metadata": {},
     "output_type": "execute_result"
    }
   ],
   "source": [
    "X.shape"
   ]
  },
  {
   "cell_type": "code",
   "execution_count": 36,
   "id": "BcjpsuHgpgYM",
   "metadata": {
    "id": "BcjpsuHgpgYM"
   },
   "outputs": [],
   "source": [
    "# Split data to test and train \n",
    "X_train, X_test, y_train, y_test = train_test_split(X, y, random_state=78, train_size=0.80)\n"
   ]
  },
  {
   "cell_type": "code",
   "execution_count": 37,
   "id": "dn-VQpp2qDH5",
   "metadata": {
    "colab": {
     "base_uri": "https://localhost:8080/"
    },
    "id": "dn-VQpp2qDH5",
    "outputId": "dcfd44c9-3b50-4ef8-abac-2ffca492b886"
   },
   "outputs": [
    {
     "name": "stdout",
     "output_type": "stream",
     "text": [
      "(16775, 8)\n",
      "(4194, 8)\n",
      "(16775,)\n",
      "(4194,)\n"
     ]
    }
   ],
   "source": [
    "# Determine the shape of our training and testing sets.\n",
    "print(X_train.shape)\n",
    "print(X_test.shape)\n",
    "print(y_train.shape)\n",
    "print(y_test.shape)"
   ]
  },
  {
   "cell_type": "code",
   "execution_count": 38,
   "id": "Ny_ugu8UiNGY",
   "metadata": {
    "id": "Ny_ugu8UiNGY"
   },
   "outputs": [],
   "source": [
    "from collections import Counter\n",
    "from imblearn.combine import SMOTEENN\n",
    "smote_enn = SMOTEENN(random_state=0)\n",
    "X_resampled, y_resampled = smote_enn.fit_resample(X, y)"
   ]
  },
  {
   "cell_type": "code",
   "execution_count": 39,
   "id": "t5BfBCpnIP6a",
   "metadata": {
    "colab": {
     "base_uri": "https://localhost:8080/"
    },
    "id": "t5BfBCpnIP6a",
    "outputId": "5ba76a97-b95c-4aed-fdc0-cdf2404bc111"
   },
   "outputs": [
    {
     "data": {
      "text/plain": [
       "Counter({0: 12002, 1: 8821})"
      ]
     },
     "execution_count": 39,
     "metadata": {},
     "output_type": "execute_result"
    }
   ],
   "source": [
    "Counter(y_resampled)"
   ]
  },
  {
   "cell_type": "code",
   "execution_count": 40,
   "id": "Kq-OfzUc2jEw",
   "metadata": {
    "id": "Kq-OfzUc2jEw"
   },
   "outputs": [],
   "source": [
    "#Counter(y_resampled)"
   ]
  },
  {
   "cell_type": "code",
   "execution_count": 41,
   "id": "4YzSV1VkuNIX",
   "metadata": {
    "id": "4YzSV1VkuNIX"
   },
   "outputs": [],
   "source": [
    "# Create a random forest classifier.\n",
    "rf_model = RandomForestClassifier(n_estimators=128, random_state=250) "
   ]
  },
  {
   "cell_type": "code",
   "execution_count": 42,
   "id": "1U7CnAZO2WvA",
   "metadata": {
    "id": "1U7CnAZO2WvA"
   },
   "outputs": [],
   "source": [
    "# Fitting the model\n",
    "rf_model = rf_model.fit(X_resampled, y_resampled)"
   ]
  },
  {
   "cell_type": "code",
   "execution_count": 43,
   "id": "IAISWP9YuqGq",
   "metadata": {
    "id": "IAISWP9YuqGq"
   },
   "outputs": [],
   "source": [
    "# Making predictions using the testing data.\n",
    "predictions = rf_model.predict(X_resampled)\n"
   ]
  },
  {
   "cell_type": "code",
   "execution_count": 44,
   "id": "VVUA9iP1ux5X",
   "metadata": {
    "colab": {
     "base_uri": "https://localhost:8080/"
    },
    "id": "VVUA9iP1ux5X",
    "outputId": "3bed7a0f-92bd-440a-84fd-dc96405431e5"
   },
   "outputs": [
    {
     "data": {
      "text/plain": [
       "array([0, 0, 0, ..., 1, 1, 1])"
      ]
     },
     "execution_count": 44,
     "metadata": {},
     "output_type": "execute_result"
    }
   ],
   "source": [
    "predictions"
   ]
  },
  {
   "cell_type": "code",
   "execution_count": 45,
   "id": "UQJg_nn70ieO",
   "metadata": {
    "colab": {
     "base_uri": "https://localhost:8080/"
    },
    "id": "UQJg_nn70ieO",
    "outputId": "30385452-a6f0-463a-f32d-3d7ce6b1e070"
   },
   "outputs": [
    {
     "data": {
      "text/plain": [
       "array([[3080,  544],\n",
       "       [ 267,  303]])"
      ]
     },
     "execution_count": 45,
     "metadata": {},
     "output_type": "execute_result"
    }
   ],
   "source": [
    "from sklearn.metrics import confusion_matrix\n",
    "predictions = rf_model.predict(X_test)\n",
    "confusion_matrix(y_test, predictions)"
   ]
  },
  {
   "cell_type": "code",
   "execution_count": 46,
   "id": "zNP8oB2zESI5",
   "metadata": {
    "colab": {
     "base_uri": "https://localhost:8080/"
    },
    "id": "zNP8oB2zESI5",
    "outputId": "d0c0cfd7-7485-45b0-8cb0-6d9076d3264c"
   },
   "outputs": [
    {
     "data": {
      "text/plain": [
       "0.8066285169289461"
      ]
     },
     "execution_count": 46,
     "metadata": {},
     "output_type": "execute_result"
    }
   ],
   "source": [
    "# Calculating the accuracy score.\n",
    "acc_score = accuracy_score(y_test, predictions)\n",
    "acc_score"
   ]
  },
  {
   "cell_type": "code",
   "execution_count": 47,
   "id": "hAdurXHfJtNy",
   "metadata": {
    "id": "hAdurXHfJtNy"
   },
   "outputs": [],
   "source": [
    "# Calculating the confusion matrix.\n",
    "cm = confusion_matrix(y_test, predictions)\n",
    "\n",
    "# Create a DataFrame from the confusion matrix.\n",
    "cm_df = pd.DataFrame(\n",
    "    cm, index=[\"Actual 0\", \"Actual 1\"], columns=[\"Predicted 0\", \"Predicted 1\"])\n"
   ]
  },
  {
   "cell_type": "code",
   "execution_count": 48,
   "id": "tWnHY2hsJ7MP",
   "metadata": {
    "colab": {
     "base_uri": "https://localhost:8080/",
     "height": 347
    },
    "id": "tWnHY2hsJ7MP",
    "outputId": "284623dd-2ee8-44c8-ef30-67ebe896a5da"
   },
   "outputs": [
    {
     "name": "stdout",
     "output_type": "stream",
     "text": [
      "Confusion Matrix\n"
     ]
    },
    {
     "data": {
      "text/html": [
       "<div>\n",
       "<style scoped>\n",
       "    .dataframe tbody tr th:only-of-type {\n",
       "        vertical-align: middle;\n",
       "    }\n",
       "\n",
       "    .dataframe tbody tr th {\n",
       "        vertical-align: top;\n",
       "    }\n",
       "\n",
       "    .dataframe thead th {\n",
       "        text-align: right;\n",
       "    }\n",
       "</style>\n",
       "<table border=\"1\" class=\"dataframe\">\n",
       "  <thead>\n",
       "    <tr style=\"text-align: right;\">\n",
       "      <th></th>\n",
       "      <th>Predicted 0</th>\n",
       "      <th>Predicted 1</th>\n",
       "    </tr>\n",
       "  </thead>\n",
       "  <tbody>\n",
       "    <tr>\n",
       "      <th>Actual 0</th>\n",
       "      <td>3080</td>\n",
       "      <td>544</td>\n",
       "    </tr>\n",
       "    <tr>\n",
       "      <th>Actual 1</th>\n",
       "      <td>267</td>\n",
       "      <td>303</td>\n",
       "    </tr>\n",
       "  </tbody>\n",
       "</table>\n",
       "</div>"
      ],
      "text/plain": [
       "          Predicted 0  Predicted 1\n",
       "Actual 0         3080          544\n",
       "Actual 1          267          303"
      ]
     },
     "metadata": {},
     "output_type": "display_data"
    },
    {
     "name": "stdout",
     "output_type": "stream",
     "text": [
      "Accuracy Score : 0.8066285169289461\n",
      "Classification Report\n",
      "              precision    recall  f1-score   support\n",
      "\n",
      "           0       0.92      0.85      0.88      3624\n",
      "           1       0.36      0.53      0.43       570\n",
      "\n",
      "    accuracy                           0.81      4194\n",
      "   macro avg       0.64      0.69      0.66      4194\n",
      "weighted avg       0.84      0.81      0.82      4194\n",
      "\n"
     ]
    }
   ],
   "source": [
    "# Displaying results\n",
    "print(\"Confusion Matrix\")\n",
    "display(cm_df)\n",
    "print(f\"Accuracy Score : {acc_score}\")\n",
    "print(\"Classification Report\")\n",
    "print(classification_report(y_test, predictions))"
   ]
  },
  {
   "cell_type": "code",
   "execution_count": 49,
   "id": "yT0QRn8l1Sjg",
   "metadata": {
    "colab": {
     "base_uri": "https://localhost:8080/"
    },
    "id": "yT0QRn8l1Sjg",
    "outputId": "2646b9df-3a1e-4f0a-9bf3-96117b5713c5"
   },
   "outputs": [
    {
     "data": {
      "text/plain": [
       "0.6907342860462414"
      ]
     },
     "execution_count": 49,
     "metadata": {},
     "output_type": "execute_result"
    }
   ],
   "source": [
    "from sklearn.metrics import balanced_accuracy_score\n",
    "balanced_accuracy_score(y_test, predictions)"
   ]
  },
  {
   "cell_type": "code",
   "execution_count": 50,
   "id": "hgYWT4CO1a-6",
   "metadata": {
    "colab": {
     "base_uri": "https://localhost:8080/"
    },
    "id": "hgYWT4CO1a-6",
    "outputId": "a2065b57-c88e-4672-d55a-9fe01a8e3727"
   },
   "outputs": [
    {
     "name": "stdout",
     "output_type": "stream",
     "text": [
      "                   pre       rec       spe        f1       geo       iba       sup\n",
      "\n",
      "          0       0.92      0.85      0.53      0.88      0.67      0.47      3624\n",
      "          1       0.36      0.53      0.85      0.43      0.67      0.44       570\n",
      "\n",
      "avg / total       0.84      0.81      0.57      0.82      0.67      0.46      4194\n",
      "\n"
     ]
    }
   ],
   "source": [
    "from imblearn.metrics import classification_report_imbalanced\n",
    "print(classification_report_imbalanced(y_test, predictions))"
   ]
  },
  {
   "cell_type": "code",
   "execution_count": 51,
   "id": "qVap-11o3SKn",
   "metadata": {
    "colab": {
     "base_uri": "https://localhost:8080/"
    },
    "id": "qVap-11o3SKn",
    "outputId": "85c758e1-2f05-44b2-c823-ba7a688c1dd0"
   },
   "outputs": [
    {
     "data": {
      "text/plain": [
       "array([0.05148948, 0.06345439, 0.06179532, 0.12206796, 0.48911463,\n",
       "       0.07086021, 0.05554257, 0.08567543])"
      ]
     },
     "execution_count": 51,
     "metadata": {},
     "output_type": "execute_result"
    }
   ],
   "source": [
    "# Calculate feature importance in the Random Forest model.\n",
    "importances = rf_model.feature_importances_\n",
    "importances"
   ]
  },
  {
   "cell_type": "code",
   "execution_count": 52,
   "id": "lw022J1Y3SNZ",
   "metadata": {
    "colab": {
     "base_uri": "https://localhost:8080/"
    },
    "id": "lw022J1Y3SNZ",
    "outputId": "aca0588c-9069-4760-b918-c273d82dbb85"
   },
   "outputs": [
    {
     "data": {
      "text/plain": [
       "[(0.48911462503626524, 'inspection_score'),\n",
       " (0.12206795829371764, 'inspection_id'),\n",
       " (0.08567543286659947, 'months_num'),\n",
       " (0.07086021249371112, 'Neighborhoods'),\n",
       " (0.06345439442884783, 'population '),\n",
       " (0.061795323734392615, 'avg_income'),\n",
       " (0.05554257303411686, 'Current Police Districts'),\n",
       " (0.051489480112349335, 'business_postal_code')]"
      ]
     },
     "execution_count": 52,
     "metadata": {},
     "output_type": "execute_result"
    }
   ],
   "source": [
    "# sort the features by their importance.\n",
    "sorted(zip(rf_model.feature_importances_, X_resampled.columns), reverse=True)"
   ]
  }
 ],
 "metadata": {
  "colab": {
   "collapsed_sections": [],
   "include_colab_link": true,
   "name": "Capstone_ML_3.ipynb",
   "provenance": []
  },
  "kernelspec": {
   "display_name": "Python 3 (ipykernel)",
   "language": "python",
   "name": "python3"
  },
  "language_info": {
   "codemirror_mode": {
    "name": "ipython",
    "version": 3
   },
   "file_extension": ".py",
   "mimetype": "text/x-python",
   "name": "python",
   "nbconvert_exporter": "python",
   "pygments_lexer": "ipython3",
   "version": "3.9.7"
  }
 },
 "nbformat": 4,
 "nbformat_minor": 5
}
