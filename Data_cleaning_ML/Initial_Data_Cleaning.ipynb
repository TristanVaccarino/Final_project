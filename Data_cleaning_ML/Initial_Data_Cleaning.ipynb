{
 "cells": [
  {
   "cell_type": "code",
   "execution_count": 43,
   "metadata": {
    "id": "WnWj4pRSaKhj"
   },
   "outputs": [],
   "source": [
    "#initial imports\n",
    "import pandas as pd\n",
    "from sklearn.ensemble import RandomForestClassifier\n",
    "from sklearn.preprocessing import StandardScaler\n",
    "from sklearn.model_selection import train_test_split\n",
    "from sklearn.metrics import confusion_matrix, accuracy_score, classification_report"
   ]
  },
  {
   "cell_type": "code",
   "execution_count": 44,
   "metadata": {
    "id": "zRiU3V4ia6Ha",
    "scrolled": true
   },
   "outputs": [],
   "source": [
    "df = pd.read_csv(\"SF_Restaurant_Scores_Standard.csv\")"
   ]
  },
  {
   "cell_type": "code",
   "execution_count": 45,
   "metadata": {
    "colab": {
     "base_uri": "https://localhost:8080/"
    },
    "id": "mfRZc8ademne",
    "outputId": "29484f72-8419-4906-8e5f-7bf7577f254a"
   },
   "outputs": [
    {
     "name": "stdout",
     "output_type": "stream",
     "text": [
      "<class 'pandas.core.frame.DataFrame'>\n",
      "RangeIndex: 53973 entries, 0 to 53972\n",
      "Data columns (total 22 columns):\n",
      " #   Column                        Non-Null Count  Dtype  \n",
      "---  ------                        --------------  -----  \n",
      " 0   business_id                   53973 non-null  int64  \n",
      " 1   business_name                 53973 non-null  object \n",
      " 2   business_address              53973 non-null  object \n",
      " 3   business_city                 53973 non-null  object \n",
      " 4   business_state                53973 non-null  object \n",
      " 5   business_postal_code          52787 non-null  object \n",
      " 6   business_latitude             27475 non-null  float64\n",
      " 7   business_longitude            27475 non-null  float64\n",
      " 8   business_location             27460 non-null  object \n",
      " 9   business_phone_number         17672 non-null  float64\n",
      " 10  inspection_id                 53973 non-null  object \n",
      " 11  inspection_date               53973 non-null  object \n",
      " 12  inspection_score              39541 non-null  float64\n",
      " 13  inspection_type               53973 non-null  object \n",
      " 14  violation_id                  40253 non-null  object \n",
      " 15  violation_description         40253 non-null  object \n",
      " 16  risk_category                 40253 non-null  object \n",
      " 17  Neighborhoods                 27435 non-null  float64\n",
      " 18  SF Find Neighborhoods         27435 non-null  float64\n",
      " 19  Current Police Districts      27447 non-null  float64\n",
      " 20  Current Supervisor Districts  27447 non-null  float64\n",
      " 21  Analysis Neighborhoods        27447 non-null  float64\n",
      "dtypes: float64(9), int64(1), object(12)\n",
      "memory usage: 9.1+ MB\n"
     ]
    }
   ],
   "source": [
    "df.info()"
   ]
  },
  {
   "cell_type": "code",
   "execution_count": 46,
   "metadata": {
    "id": "HDwy979p76_k"
   },
   "outputs": [],
   "source": [
    "#drop initial columns \n",
    "df = df.drop(columns=[\"business_phone_number\", \"business_address\", \"business_location\", \"business_longitude\", \"business_latitude\", \"business_id\", \"business_name\", \"business_city\", \"business_state\", \"SF Find Neighborhoods\",\n",
    "                      \"Current Supervisor Districts\", \"Analysis Neighborhoods\", \"violation_id\"])"
   ]
  },
  {
   "cell_type": "code",
   "execution_count": 47,
   "metadata": {
    "colab": {
     "base_uri": "https://localhost:8080/"
    },
    "id": "XRJi7LSb_Uyz",
    "outputId": "a6b7994d-d5df-4b04-c25e-79b2723e3c2d"
   },
   "outputs": [
    {
     "name": "stdout",
     "output_type": "stream",
     "text": [
      "<class 'pandas.core.frame.DataFrame'>\n",
      "RangeIndex: 53973 entries, 0 to 53972\n",
      "Data columns (total 9 columns):\n",
      " #   Column                    Non-Null Count  Dtype  \n",
      "---  ------                    --------------  -----  \n",
      " 0   business_postal_code      52787 non-null  object \n",
      " 1   inspection_id             53973 non-null  object \n",
      " 2   inspection_date           53973 non-null  object \n",
      " 3   inspection_score          39541 non-null  float64\n",
      " 4   inspection_type           53973 non-null  object \n",
      " 5   violation_description     40253 non-null  object \n",
      " 6   risk_category             40253 non-null  object \n",
      " 7   Neighborhoods             27435 non-null  float64\n",
      " 8   Current Police Districts  27447 non-null  float64\n",
      "dtypes: float64(3), object(6)\n",
      "memory usage: 3.7+ MB\n"
     ]
    }
   ],
   "source": [
    "df.info()"
   ]
  },
  {
   "cell_type": "code",
   "execution_count": 48,
   "metadata": {
    "id": "bJ-rBwKC_qrb"
   },
   "outputs": [],
   "source": [
    "#drop rows that contain any null values \n",
    "df = df.dropna()"
   ]
  },
  {
   "cell_type": "code",
   "execution_count": 49,
   "metadata": {
    "colab": {
     "base_uri": "https://localhost:8080/"
    },
    "id": "5A0eIwWs_9UK",
    "outputId": "2aeb7d42-0533-45cf-bde4-6d8c37121f80"
   },
   "outputs": [
    {
     "name": "stdout",
     "output_type": "stream",
     "text": [
      "<class 'pandas.core.frame.DataFrame'>\n",
      "Int64Index: 20311 entries, 0 to 38177\n",
      "Data columns (total 9 columns):\n",
      " #   Column                    Non-Null Count  Dtype  \n",
      "---  ------                    --------------  -----  \n",
      " 0   business_postal_code      20311 non-null  object \n",
      " 1   inspection_id             20311 non-null  object \n",
      " 2   inspection_date           20311 non-null  object \n",
      " 3   inspection_score          20311 non-null  float64\n",
      " 4   inspection_type           20311 non-null  object \n",
      " 5   violation_description     20311 non-null  object \n",
      " 6   risk_category             20311 non-null  object \n",
      " 7   Neighborhoods             20311 non-null  float64\n",
      " 8   Current Police Districts  20311 non-null  float64\n",
      "dtypes: float64(3), object(6)\n",
      "memory usage: 1.5+ MB\n"
     ]
    }
   ],
   "source": [
    "df.info()"
   ]
  },
  {
   "cell_type": "code",
   "execution_count": 50,
   "metadata": {
    "id": "V120GtHEeUpM"
   },
   "outputs": [],
   "source": [
    "#loop over business_postal_code and get unique postal codes \n",
    "postal_list = []\n",
    "\n",
    "for postal in df[\"business_postal_code\"]:\n",
    "  if postal not in postal_list:\n",
    "    postal_list.append(postal)"
   ]
  },
  {
   "cell_type": "code",
   "execution_count": 51,
   "metadata": {
    "id": "8RaDKHGRbMXt"
   },
   "outputs": [],
   "source": [
    "#loop over list to remove all false postal codes\n",
    "postal_list\n",
    "\n",
    "for code in postal_list:\n",
    "  if len(code) < 5 or len(code) > 5:\n",
    "    postal_list.remove(code)\n",
    "     "
   ]
  },
  {
   "cell_type": "code",
   "execution_count": 52,
   "metadata": {
    "colab": {
     "base_uri": "https://localhost:8080/"
    },
    "id": "WKDaCUyINrFX",
    "outputId": "8503d335-b664-476b-c552-109af19c3a29"
   },
   "outputs": [
    {
     "data": {
      "text/plain": [
       "33"
      ]
     },
     "execution_count": 52,
     "metadata": {},
     "output_type": "execute_result"
    }
   ],
   "source": [
    "len(postal_list)"
   ]
  },
  {
   "cell_type": "code",
   "execution_count": 53,
   "metadata": {
    "id": "3v1lJRHeE2Ia"
   },
   "outputs": [],
   "source": [
    "postal_list.remove(\"941102019\")"
   ]
  },
  {
   "cell_type": "code",
   "execution_count": 54,
   "metadata": {
    "colab": {
     "base_uri": "https://localhost:8080/"
    },
    "id": "IBuQ5vNnJNzk",
    "outputId": "adc11689-34f5-419f-bcc2-4e739f17a137"
   },
   "outputs": [
    {
     "data": {
      "text/plain": [
       "(20311, 9)"
      ]
     },
     "execution_count": 54,
     "metadata": {},
     "output_type": "execute_result"
    }
   ],
   "source": [
    "df.shape"
   ]
  },
  {
   "cell_type": "code",
   "execution_count": 55,
   "metadata": {
    "id": "C_fQ4LeFcZtn"
   },
   "outputs": [],
   "source": [
    "#loop dataframe business_postal_code column to drop rows with postal codes not in postal_list\n",
    "for index, postal in df[\"business_postal_code\"].iteritems():\n",
    "  if postal not in postal_list:\n",
    "    df = df.drop(index)\n"
   ]
  },
  {
   "cell_type": "code",
   "execution_count": 56,
   "metadata": {
    "id": "2n-I48IujjGM"
   },
   "outputs": [],
   "source": [
    "#change data type from object to int\n",
    "df[\"business_postal_code\"] = df[\"business_postal_code\"].astype(int)"
   ]
  },
  {
   "cell_type": "code",
   "execution_count": 57,
   "metadata": {
    "colab": {
     "base_uri": "https://localhost:8080/"
    },
    "id": "-QfQnJl8QM_b",
    "outputId": "9756a464-b6bd-47e3-9b2d-0dc6e928dfb4"
   },
   "outputs": [
    {
     "name": "stdout",
     "output_type": "stream",
     "text": [
      "<class 'pandas.core.frame.DataFrame'>\n",
      "Int64Index: 20292 entries, 0 to 38177\n",
      "Data columns (total 9 columns):\n",
      " #   Column                    Non-Null Count  Dtype  \n",
      "---  ------                    --------------  -----  \n",
      " 0   business_postal_code      20292 non-null  int64  \n",
      " 1   inspection_id             20292 non-null  object \n",
      " 2   inspection_date           20292 non-null  object \n",
      " 3   inspection_score          20292 non-null  float64\n",
      " 4   inspection_type           20292 non-null  object \n",
      " 5   violation_description     20292 non-null  object \n",
      " 6   risk_category             20292 non-null  object \n",
      " 7   Neighborhoods             20292 non-null  float64\n",
      " 8   Current Police Districts  20292 non-null  float64\n",
      "dtypes: float64(3), int64(1), object(5)\n",
      "memory usage: 1.5+ MB\n"
     ]
    }
   ],
   "source": [
    "df.info()"
   ]
  },
  {
   "cell_type": "code",
   "execution_count": 58,
   "metadata": {
    "colab": {
     "base_uri": "https://localhost:8080/"
    },
    "id": "VnwOfdMSN4kb",
    "outputId": "ae97048e-d9f7-40a0-8046-7a673ffc0348"
   },
   "outputs": [
    {
     "data": {
      "text/plain": [
       "0        94133\n",
       "1        94108\n",
       "2        94118\n",
       "3        94109\n",
       "4        94114\n",
       "         ...  \n",
       "38162    94118\n",
       "38165    94112\n",
       "38167    94103\n",
       "38172    94103\n",
       "38177    94102\n",
       "Name: business_postal_code, Length: 20292, dtype: int64"
      ]
     },
     "execution_count": 58,
     "metadata": {},
     "output_type": "execute_result"
    }
   ],
   "source": [
    "df[\"business_postal_code\"].astype(int)"
   ]
  },
  {
   "cell_type": "code",
   "execution_count": 59,
   "metadata": {
    "id": "-ZN9bZ8mnu73"
   },
   "outputs": [],
   "source": [
    "#get df postal codes in an array \n",
    "postal_code_array = []\n",
    "\n",
    "df[\"business_postal_code\"]\n",
    "for i in df[\"business_postal_code\"]:\n",
    "  postal_code_array.append(i)\n"
   ]
  },
  {
   "cell_type": "code",
   "execution_count": 60,
   "metadata": {
    "id": "n1E3uH82upWk"
   },
   "outputs": [],
   "source": [
    "import pandas as pd"
   ]
  },
  {
   "cell_type": "code",
   "execution_count": 61,
   "metadata": {
    "colab": {
     "base_uri": "https://localhost:8080/"
    },
    "id": "dnfc7FkcQscc",
    "outputId": "2867c860-0185-4b1d-bcee-1524e5dcb582"
   },
   "outputs": [
    {
     "name": "stdout",
     "output_type": "stream",
     "text": [
      "<class 'pandas.core.frame.DataFrame'>\n",
      "Int64Index: 20292 entries, 0 to 38177\n",
      "Data columns (total 9 columns):\n",
      " #   Column                    Non-Null Count  Dtype  \n",
      "---  ------                    --------------  -----  \n",
      " 0   business_postal_code      20292 non-null  int64  \n",
      " 1   inspection_id             20292 non-null  object \n",
      " 2   inspection_date           20292 non-null  object \n",
      " 3   inspection_score          20292 non-null  float64\n",
      " 4   inspection_type           20292 non-null  object \n",
      " 5   violation_description     20292 non-null  object \n",
      " 6   risk_category             20292 non-null  object \n",
      " 7   Neighborhoods             20292 non-null  float64\n",
      " 8   Current Police Districts  20292 non-null  float64\n",
      "dtypes: float64(3), int64(1), object(5)\n",
      "memory usage: 1.5+ MB\n"
     ]
    }
   ],
   "source": [
    "df.info()"
   ]
  },
  {
   "cell_type": "code",
   "execution_count": 62,
   "metadata": {
    "id": "OBkWM4hBsRqC",
    "scrolled": true
   },
   "outputs": [],
   "source": [
    "#import smaller csv to dataframe\n",
    "pop_income_df = pd.read_excel(\"san_fran_pop_income1.xlsx\")"
   ]
  },
  {
   "cell_type": "code",
   "execution_count": 63,
   "metadata": {
    "colab": {
     "base_uri": "https://localhost:8080/"
    },
    "id": "VVkcQ7jDs2hh",
    "outputId": "1e144f5a-f4e2-41a0-e51f-9beaa849b34d"
   },
   "outputs": [
    {
     "data": {
      "text/plain": [
       "0     94127\n",
       "1     94105\n",
       "2     94123\n",
       "3     94130\n",
       "4     94131\n",
       "5     94114\n",
       "6     94129\n",
       "7     94116\n",
       "8     94117\n",
       "9     94121\n",
       "10    94118\n",
       "11    94107\n",
       "12    94122\n",
       "13    94112\n",
       "14    94111\n",
       "15    94132\n",
       "16    94115\n",
       "17    94134\n",
       "18    94110\n",
       "19    94109\n",
       "20    94133\n",
       "21    94124\n",
       "22    94108\n",
       "23    94103\n",
       "24    94102\n",
       "25    94104\n",
       "26    94128\n",
       "27    94143\n",
       "28    94158\n",
       "29    94105\n",
       "30    94101\n",
       "Name: business_postal_code, dtype: int64"
      ]
     },
     "execution_count": 63,
     "metadata": {},
     "output_type": "execute_result"
    }
   ],
   "source": [
    "pop_income_df[\"business_postal_code\"]"
   ]
  },
  {
   "cell_type": "code",
   "execution_count": 64,
   "metadata": {
    "id": "W4_3lw8Ks4Oh"
   },
   "outputs": [],
   "source": [
    "#add smaller csv business_postal_code to an array \n",
    "pop_income_df_array = []\n",
    "for pop_income in pop_income_df[\"business_postal_code\"]:\n",
    "  pop_income_df_array.append(pop_income)\n"
   ]
  },
  {
   "cell_type": "code",
   "execution_count": 65,
   "metadata": {
    "colab": {
     "base_uri": "https://localhost:8080/"
    },
    "id": "_hi2AP1Zs-ta",
    "outputId": "1d8609f1-4cc2-4888-be67-9d1e1f919a6b"
   },
   "outputs": [
    {
     "data": {
      "text/plain": [
       "32"
      ]
     },
     "execution_count": 65,
     "metadata": {},
     "output_type": "execute_result"
    }
   ],
   "source": [
    "#look at the unique postal codes of larger data set\n",
    "df[\"business_postal_code\"].nunique()\n"
   ]
  },
  {
   "cell_type": "code",
   "execution_count": 66,
   "metadata": {
    "colab": {
     "base_uri": "https://localhost:8080/"
    },
    "id": "hVC9yT8ND2mF",
    "outputId": "da154fa8-3942-4a65-a9a9-1e09966cdc59"
   },
   "outputs": [
    {
     "name": "stdout",
     "output_type": "stream",
     "text": [
      "The common elements in the two lists are: \n",
      "29\n"
     ]
    }
   ],
   "source": [
    "#Python program to find the common elements in two lists\n",
    "\n",
    "def common_member(a, b):\n",
    "    result = [i for i in a if i in b]\n",
    "    return result\n",
    "\n",
    "pop_income_df_array\n",
    "postal_code_array\n",
    "\n",
    "print(\"The common elements in the two lists are: \")\n",
    "postal_result = common_member(pop_income_df_array, postal_code_array)\n",
    "print(len(postal_result))"
   ]
  },
  {
   "cell_type": "code",
   "execution_count": 67,
   "metadata": {
    "id": "ImEPK9gvdBIt"
   },
   "outputs": [],
   "source": [
    "#loop over larger data set to drop rows that don't have a postal code in postal_result ^\n",
    "for index, postal in df[\"business_postal_code\"].iteritems():\n",
    "  if postal not in postal_result:\n",
    "    df = df.drop(index)"
   ]
  },
  {
   "cell_type": "code",
   "execution_count": 68,
   "metadata": {
    "colab": {
     "base_uri": "https://localhost:8080/"
    },
    "id": "c8a4n-EId3Pg",
    "outputId": "40ff81c6-80d2-4593-900c-3186297a5a0e"
   },
   "outputs": [
    {
     "data": {
      "text/plain": [
       "(20273, 9)"
      ]
     },
     "execution_count": 68,
     "metadata": {},
     "output_type": "execute_result"
    }
   ],
   "source": [
    "df.shape"
   ]
  },
  {
   "cell_type": "code",
   "execution_count": 69,
   "metadata": {
    "colab": {
     "base_uri": "https://localhost:8080/",
     "height": 206
    },
    "id": "XdFC4DV2mOpS",
    "outputId": "3d771119-dc5a-48c0-ab0d-94a331030055"
   },
   "outputs": [
    {
     "data": {
      "text/html": [
       "<div>\n",
       "<style scoped>\n",
       "    .dataframe tbody tr th:only-of-type {\n",
       "        vertical-align: middle;\n",
       "    }\n",
       "\n",
       "    .dataframe tbody tr th {\n",
       "        vertical-align: top;\n",
       "    }\n",
       "\n",
       "    .dataframe thead th {\n",
       "        text-align: right;\n",
       "    }\n",
       "</style>\n",
       "<table border=\"1\" class=\"dataframe\">\n",
       "  <thead>\n",
       "    <tr style=\"text-align: right;\">\n",
       "      <th></th>\n",
       "      <th>business_postal_code</th>\n",
       "      <th>inspection_id</th>\n",
       "      <th>inspection_date</th>\n",
       "      <th>inspection_score</th>\n",
       "      <th>inspection_type</th>\n",
       "      <th>violation_description</th>\n",
       "      <th>risk_category</th>\n",
       "      <th>Neighborhoods</th>\n",
       "      <th>Current Police Districts</th>\n",
       "    </tr>\n",
       "  </thead>\n",
       "  <tbody>\n",
       "    <tr>\n",
       "      <th>0</th>\n",
       "      <td>94133</td>\n",
       "      <td>835_20180917</td>\n",
       "      <td>09/17/2018 12:00:00 AM</td>\n",
       "      <td>88.0</td>\n",
       "      <td>Routine - Unscheduled</td>\n",
       "      <td>Improper food storage</td>\n",
       "      <td>Low Risk</td>\n",
       "      <td>107.0</td>\n",
       "      <td>6.0</td>\n",
       "    </tr>\n",
       "    <tr>\n",
       "      <th>1</th>\n",
       "      <td>94108</td>\n",
       "      <td>905_20190415</td>\n",
       "      <td>04/15/2019 12:00:00 AM</td>\n",
       "      <td>87.0</td>\n",
       "      <td>Routine - Unscheduled</td>\n",
       "      <td>High risk vermin infestation</td>\n",
       "      <td>High Risk</td>\n",
       "      <td>19.0</td>\n",
       "      <td>6.0</td>\n",
       "    </tr>\n",
       "    <tr>\n",
       "      <th>2</th>\n",
       "      <td>94118</td>\n",
       "      <td>1203_20170803</td>\n",
       "      <td>08/03/2017 12:00:00 AM</td>\n",
       "      <td>77.0</td>\n",
       "      <td>Routine - Unscheduled</td>\n",
       "      <td>Moderate risk food holding temperature</td>\n",
       "      <td>Moderate Risk</td>\n",
       "      <td>5.0</td>\n",
       "      <td>8.0</td>\n",
       "    </tr>\n",
       "    <tr>\n",
       "      <th>3</th>\n",
       "      <td>94109</td>\n",
       "      <td>1345_20170928</td>\n",
       "      <td>09/28/2017 12:00:00 AM</td>\n",
       "      <td>81.0</td>\n",
       "      <td>Routine - Unscheduled</td>\n",
       "      <td>Improper cooling methods</td>\n",
       "      <td>High Risk</td>\n",
       "      <td>105.0</td>\n",
       "      <td>4.0</td>\n",
       "    </tr>\n",
       "    <tr>\n",
       "      <th>4</th>\n",
       "      <td>94114</td>\n",
       "      <td>1352_20180620</td>\n",
       "      <td>06/20/2018 12:00:00 AM</td>\n",
       "      <td>74.0</td>\n",
       "      <td>Routine - Unscheduled</td>\n",
       "      <td>Non service animal</td>\n",
       "      <td>Low Risk</td>\n",
       "      <td>38.0</td>\n",
       "      <td>3.0</td>\n",
       "    </tr>\n",
       "  </tbody>\n",
       "</table>\n",
       "</div>"
      ],
      "text/plain": [
       "   business_postal_code  inspection_id         inspection_date  \\\n",
       "0                 94133   835_20180917  09/17/2018 12:00:00 AM   \n",
       "1                 94108   905_20190415  04/15/2019 12:00:00 AM   \n",
       "2                 94118  1203_20170803  08/03/2017 12:00:00 AM   \n",
       "3                 94109  1345_20170928  09/28/2017 12:00:00 AM   \n",
       "4                 94114  1352_20180620  06/20/2018 12:00:00 AM   \n",
       "\n",
       "   inspection_score        inspection_type  \\\n",
       "0              88.0  Routine - Unscheduled   \n",
       "1              87.0  Routine - Unscheduled   \n",
       "2              77.0  Routine - Unscheduled   \n",
       "3              81.0  Routine - Unscheduled   \n",
       "4              74.0  Routine - Unscheduled   \n",
       "\n",
       "                    violation_description  risk_category  Neighborhoods  \\\n",
       "0                   Improper food storage       Low Risk          107.0   \n",
       "1            High risk vermin infestation      High Risk           19.0   \n",
       "2  Moderate risk food holding temperature  Moderate Risk            5.0   \n",
       "3                Improper cooling methods      High Risk          105.0   \n",
       "4                      Non service animal       Low Risk           38.0   \n",
       "\n",
       "   Current Police Districts  \n",
       "0                       6.0  \n",
       "1                       6.0  \n",
       "2                       8.0  \n",
       "3                       4.0  \n",
       "4                       3.0  "
      ]
     },
     "execution_count": 69,
     "metadata": {},
     "output_type": "execute_result"
    }
   ],
   "source": [
    "df.head()"
   ]
  },
  {
   "cell_type": "code",
   "execution_count": 70,
   "metadata": {
    "id": "GyS2M4taoxp9"
   },
   "outputs": [],
   "source": [
    "#drop rows from smaller csv that have a postal code that is not in the postal_result\n",
    "for index, postal in pop_income_df[\"business_postal_code\"].iteritems():\n",
    "  if postal not in postal_result:\n",
    "    pop_income_df = pop_income_df.drop(index)\n"
   ]
  },
  {
   "cell_type": "code",
   "execution_count": 71,
   "metadata": {
    "colab": {
     "base_uri": "https://localhost:8080/"
    },
    "id": "MI-FkfXPqPMF",
    "outputId": "6c2d0ee9-d4f0-4d4d-b505-0fa98d591a9e"
   },
   "outputs": [
    {
     "data": {
      "text/plain": [
       "(29, 4)"
      ]
     },
     "execution_count": 71,
     "metadata": {},
     "output_type": "execute_result"
    }
   ],
   "source": [
    "#row count here matches the same amount of postal codes in postal_result\n",
    "pop_income_df.shape"
   ]
  },
  {
   "cell_type": "code",
   "execution_count": 72,
   "metadata": {},
   "outputs": [],
   "source": [
    "final_table_ml = pd.merge(pop_income_df, df, on = 'business_postal_code')\n",
    "final_table_ml.set_index('business_postal_code', inplace = True)\n",
    "\n",
    "# Write it to a new CSV file\n",
    "final_table_ml.to_csv('final_table_ml.csv')"
   ]
  },
  {
   "cell_type": "code",
   "execution_count": 73,
   "metadata": {},
   "outputs": [
    {
     "data": {
      "text/html": [
       "<div>\n",
       "<style scoped>\n",
       "    .dataframe tbody tr th:only-of-type {\n",
       "        vertical-align: middle;\n",
       "    }\n",
       "\n",
       "    .dataframe tbody tr th {\n",
       "        vertical-align: top;\n",
       "    }\n",
       "\n",
       "    .dataframe thead th {\n",
       "        text-align: right;\n",
       "    }\n",
       "</style>\n",
       "<table border=\"1\" class=\"dataframe\">\n",
       "  <thead>\n",
       "    <tr style=\"text-align: right;\">\n",
       "      <th></th>\n",
       "      <th>Unnamed: 0</th>\n",
       "      <th>population</th>\n",
       "      <th>avg_income</th>\n",
       "      <th>inspection_id</th>\n",
       "      <th>inspection_date</th>\n",
       "      <th>inspection_score</th>\n",
       "      <th>inspection_type</th>\n",
       "      <th>violation_description</th>\n",
       "      <th>risk_category</th>\n",
       "      <th>Neighborhoods</th>\n",
       "      <th>Current Police Districts</th>\n",
       "    </tr>\n",
       "    <tr>\n",
       "      <th>business_postal_code</th>\n",
       "      <th></th>\n",
       "      <th></th>\n",
       "      <th></th>\n",
       "      <th></th>\n",
       "      <th></th>\n",
       "      <th></th>\n",
       "      <th></th>\n",
       "      <th></th>\n",
       "      <th></th>\n",
       "      <th></th>\n",
       "      <th></th>\n",
       "    </tr>\n",
       "  </thead>\n",
       "  <tbody>\n",
       "    <tr>\n",
       "      <th>94127</th>\n",
       "      <td>1</td>\n",
       "      <td>20624</td>\n",
       "      <td>95313</td>\n",
       "      <td>38798_20170928</td>\n",
       "      <td>09/28/2017 12:00:00 AM</td>\n",
       "      <td>94.0</td>\n",
       "      <td>Routine - Unscheduled</td>\n",
       "      <td>Improper or defective plumbing</td>\n",
       "      <td>Low Risk</td>\n",
       "      <td>95.0</td>\n",
       "      <td>9.0</td>\n",
       "    </tr>\n",
       "    <tr>\n",
       "      <th>94127</th>\n",
       "      <td>1</td>\n",
       "      <td>20624</td>\n",
       "      <td>95313</td>\n",
       "      <td>5796_20170825</td>\n",
       "      <td>08/25/2017 12:00:00 AM</td>\n",
       "      <td>98.0</td>\n",
       "      <td>Routine - Unscheduled</td>\n",
       "      <td>Improper food storage</td>\n",
       "      <td>Low Risk</td>\n",
       "      <td>63.0</td>\n",
       "      <td>10.0</td>\n",
       "    </tr>\n",
       "    <tr>\n",
       "      <th>94127</th>\n",
       "      <td>1</td>\n",
       "      <td>20624</td>\n",
       "      <td>95313</td>\n",
       "      <td>2808_20170621</td>\n",
       "      <td>06/21/2017 12:00:00 AM</td>\n",
       "      <td>81.0</td>\n",
       "      <td>Routine - Unscheduled</td>\n",
       "      <td>Other low risk violation</td>\n",
       "      <td>Low Risk</td>\n",
       "      <td>67.0</td>\n",
       "      <td>10.0</td>\n",
       "    </tr>\n",
       "    <tr>\n",
       "      <th>94127</th>\n",
       "      <td>1</td>\n",
       "      <td>20624</td>\n",
       "      <td>95313</td>\n",
       "      <td>4630_20170304</td>\n",
       "      <td>03/04/2017 12:00:00 AM</td>\n",
       "      <td>96.0</td>\n",
       "      <td>Routine - Unscheduled</td>\n",
       "      <td>Food safety certificate or food handler card n...</td>\n",
       "      <td>Low Risk</td>\n",
       "      <td>67.0</td>\n",
       "      <td>10.0</td>\n",
       "    </tr>\n",
       "    <tr>\n",
       "      <th>94127</th>\n",
       "      <td>1</td>\n",
       "      <td>20624</td>\n",
       "      <td>95313</td>\n",
       "      <td>2808_20190103</td>\n",
       "      <td>01/03/2019 12:00:00 AM</td>\n",
       "      <td>74.0</td>\n",
       "      <td>Routine - Unscheduled</td>\n",
       "      <td>Unclean or degraded floors walls or ceilings</td>\n",
       "      <td>Low Risk</td>\n",
       "      <td>67.0</td>\n",
       "      <td>10.0</td>\n",
       "    </tr>\n",
       "    <tr>\n",
       "      <th>...</th>\n",
       "      <td>...</td>\n",
       "      <td>...</td>\n",
       "      <td>...</td>\n",
       "      <td>...</td>\n",
       "      <td>...</td>\n",
       "      <td>...</td>\n",
       "      <td>...</td>\n",
       "      <td>...</td>\n",
       "      <td>...</td>\n",
       "      <td>...</td>\n",
       "      <td>...</td>\n",
       "    </tr>\n",
       "    <tr>\n",
       "      <th>94101</th>\n",
       "      <td>31</td>\n",
       "      <td>0</td>\n",
       "      <td>0</td>\n",
       "      <td>65856_20190117</td>\n",
       "      <td>01/17/2019 12:00:00 AM</td>\n",
       "      <td>86.0</td>\n",
       "      <td>Routine - Unscheduled</td>\n",
       "      <td>Wiping cloths not clean or properly stored or ...</td>\n",
       "      <td>Low Risk</td>\n",
       "      <td>32.0</td>\n",
       "      <td>5.0</td>\n",
       "    </tr>\n",
       "    <tr>\n",
       "      <th>94101</th>\n",
       "      <td>31</td>\n",
       "      <td>0</td>\n",
       "      <td>0</td>\n",
       "      <td>65856_20190828</td>\n",
       "      <td>08/28/2019 12:00:00 AM</td>\n",
       "      <td>84.0</td>\n",
       "      <td>Routine - Unscheduled</td>\n",
       "      <td>Inadequate food safety knowledge or lack of ce...</td>\n",
       "      <td>Moderate Risk</td>\n",
       "      <td>32.0</td>\n",
       "      <td>5.0</td>\n",
       "    </tr>\n",
       "    <tr>\n",
       "      <th>94101</th>\n",
       "      <td>31</td>\n",
       "      <td>0</td>\n",
       "      <td>0</td>\n",
       "      <td>65856_20170821</td>\n",
       "      <td>08/21/2017 12:00:00 AM</td>\n",
       "      <td>73.0</td>\n",
       "      <td>Routine - Unscheduled</td>\n",
       "      <td>High risk food holding temperature</td>\n",
       "      <td>High Risk</td>\n",
       "      <td>32.0</td>\n",
       "      <td>5.0</td>\n",
       "    </tr>\n",
       "    <tr>\n",
       "      <th>94101</th>\n",
       "      <td>31</td>\n",
       "      <td>0</td>\n",
       "      <td>0</td>\n",
       "      <td>65856_20170821</td>\n",
       "      <td>08/21/2017 12:00:00 AM</td>\n",
       "      <td>73.0</td>\n",
       "      <td>Routine - Unscheduled</td>\n",
       "      <td>Improper storage use or identification of toxi...</td>\n",
       "      <td>Low Risk</td>\n",
       "      <td>32.0</td>\n",
       "      <td>5.0</td>\n",
       "    </tr>\n",
       "    <tr>\n",
       "      <th>94101</th>\n",
       "      <td>31</td>\n",
       "      <td>0</td>\n",
       "      <td>0</td>\n",
       "      <td>65856_20170821</td>\n",
       "      <td>08/21/2017 12:00:00 AM</td>\n",
       "      <td>73.0</td>\n",
       "      <td>Routine - Unscheduled</td>\n",
       "      <td>Inadequate warewashing facilities or equipment</td>\n",
       "      <td>Low Risk</td>\n",
       "      <td>32.0</td>\n",
       "      <td>5.0</td>\n",
       "    </tr>\n",
       "  </tbody>\n",
       "</table>\n",
       "<p>20969 rows × 11 columns</p>\n",
       "</div>"
      ],
      "text/plain": [
       "                      Unnamed: 0  population   avg_income   inspection_id  \\\n",
       "business_postal_code                                                        \n",
       "94127                          1        20624       95313  38798_20170928   \n",
       "94127                          1        20624       95313   5796_20170825   \n",
       "94127                          1        20624       95313   2808_20170621   \n",
       "94127                          1        20624       95313   4630_20170304   \n",
       "94127                          1        20624       95313   2808_20190103   \n",
       "...                          ...          ...         ...             ...   \n",
       "94101                         31            0           0  65856_20190117   \n",
       "94101                         31            0           0  65856_20190828   \n",
       "94101                         31            0           0  65856_20170821   \n",
       "94101                         31            0           0  65856_20170821   \n",
       "94101                         31            0           0  65856_20170821   \n",
       "\n",
       "                             inspection_date  inspection_score  \\\n",
       "business_postal_code                                             \n",
       "94127                 09/28/2017 12:00:00 AM              94.0   \n",
       "94127                 08/25/2017 12:00:00 AM              98.0   \n",
       "94127                 06/21/2017 12:00:00 AM              81.0   \n",
       "94127                 03/04/2017 12:00:00 AM              96.0   \n",
       "94127                 01/03/2019 12:00:00 AM              74.0   \n",
       "...                                      ...               ...   \n",
       "94101                 01/17/2019 12:00:00 AM              86.0   \n",
       "94101                 08/28/2019 12:00:00 AM              84.0   \n",
       "94101                 08/21/2017 12:00:00 AM              73.0   \n",
       "94101                 08/21/2017 12:00:00 AM              73.0   \n",
       "94101                 08/21/2017 12:00:00 AM              73.0   \n",
       "\n",
       "                            inspection_type  \\\n",
       "business_postal_code                          \n",
       "94127                 Routine - Unscheduled   \n",
       "94127                 Routine - Unscheduled   \n",
       "94127                 Routine - Unscheduled   \n",
       "94127                 Routine - Unscheduled   \n",
       "94127                 Routine - Unscheduled   \n",
       "...                                     ...   \n",
       "94101                 Routine - Unscheduled   \n",
       "94101                 Routine - Unscheduled   \n",
       "94101                 Routine - Unscheduled   \n",
       "94101                 Routine - Unscheduled   \n",
       "94101                 Routine - Unscheduled   \n",
       "\n",
       "                                                  violation_description  \\\n",
       "business_postal_code                                                      \n",
       "94127                                    Improper or defective plumbing   \n",
       "94127                                             Improper food storage   \n",
       "94127                                          Other low risk violation   \n",
       "94127                 Food safety certificate or food handler card n...   \n",
       "94127                      Unclean or degraded floors walls or ceilings   \n",
       "...                                                                 ...   \n",
       "94101                 Wiping cloths not clean or properly stored or ...   \n",
       "94101                 Inadequate food safety knowledge or lack of ce...   \n",
       "94101                                High risk food holding temperature   \n",
       "94101                 Improper storage use or identification of toxi...   \n",
       "94101                    Inadequate warewashing facilities or equipment   \n",
       "\n",
       "                      risk_category  Neighborhoods  Current Police Districts  \n",
       "business_postal_code                                                          \n",
       "94127                      Low Risk           95.0                       9.0  \n",
       "94127                      Low Risk           63.0                      10.0  \n",
       "94127                      Low Risk           67.0                      10.0  \n",
       "94127                      Low Risk           67.0                      10.0  \n",
       "94127                      Low Risk           67.0                      10.0  \n",
       "...                             ...            ...                       ...  \n",
       "94101                      Low Risk           32.0                       5.0  \n",
       "94101                 Moderate Risk           32.0                       5.0  \n",
       "94101                     High Risk           32.0                       5.0  \n",
       "94101                      Low Risk           32.0                       5.0  \n",
       "94101                      Low Risk           32.0                       5.0  \n",
       "\n",
       "[20969 rows x 11 columns]"
      ]
     },
     "execution_count": 73,
     "metadata": {},
     "output_type": "execute_result"
    }
   ],
   "source": [
    "final_table_ml"
   ]
  }
 ],
 "metadata": {
  "colab": {
   "collapsed_sections": [],
   "include_colab_link": true,
   "name": "Initial_Data_Cleaning.ipynb",
   "provenance": []
  },
  "kernelspec": {
   "display_name": "Python 3 (ipykernel)",
   "language": "python",
   "name": "python3"
  },
  "language_info": {
   "codemirror_mode": {
    "name": "ipython",
    "version": 3
   },
   "file_extension": ".py",
   "mimetype": "text/x-python",
   "name": "python",
   "nbconvert_exporter": "python",
   "pygments_lexer": "ipython3",
   "version": "3.9.7"
  }
 },
 "nbformat": 4,
 "nbformat_minor": 1
}
